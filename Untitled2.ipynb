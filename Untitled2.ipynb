{
 "cells": [
  {
   "cell_type": "markdown",
   "metadata": {},
   "source": [
    "## 흐름\n",
    "## 1. 로지스틱 일반\n",
    "## 2. KNN 과 Upgrade KNN\n",
    "## 3. Decision Tree 와 Random Forest\n",
    "## 4. SVM\n",
    "\n",
    "## 5. class weighted 로지스틱\n",
    "## 6. class weighted SVM"
   ]
  },
  {
   "cell_type": "code",
   "execution_count": 69,
   "metadata": {},
   "outputs": [],
   "source": [
    "import pandas as pd\n",
    "import numpy as np\n",
    "import matplotlib.pyplot as plt\n",
    "import seaborn as sns\n",
    "%matplotlib inline"
   ]
  },
  {
   "cell_type": "code",
   "execution_count": 70,
   "metadata": {},
   "outputs": [],
   "source": [
    "german_num = pd.read_csv('german.data-numeric.txt',sep='\\s+',header=None)\n",
    "german_txt = pd.read_csv('german.data.txt', sep = '\\s+', header = None)"
   ]
  },
  {
   "cell_type": "code",
   "execution_count": 71,
   "metadata": {},
   "outputs": [],
   "source": [
    "col_names = ['Check DM', 'Duration', 'Credit History', 'Credit Amount',\n",
    "            'Saving Account', 'Employment', 'Personal Status', 'Residence',\n",
    "            'Property', 'Age', 'Other Installment', 'Existing Credit',\n",
    "            'Liable People', 'Telephone', 'Foreign', 'New Car', 'Used Car', 'No Debtor', 'Co Debtor',\n",
    "            'Rent House','Own House', 'Job1', 'Job2', 'Job3', 'Credit']\n",
    "german_num.columns = col_names"
   ]
  },
  {
   "cell_type": "code",
   "execution_count": null,
   "metadata": {},
   "outputs": [],
   "source": []
  },
  {
   "cell_type": "markdown",
   "metadata": {},
   "source": [
    "## Train - Test data split"
   ]
  },
  {
   "cell_type": "code",
   "execution_count": 72,
   "metadata": {},
   "outputs": [],
   "source": [
    "from sklearn.model_selection import train_test_split"
   ]
  },
  {
   "cell_type": "code",
   "execution_count": 276,
   "metadata": {},
   "outputs": [],
   "source": [
    "X_all = german_num.drop('Credit', axis = 1)\n",
    "X_sel = german_num[['Check DM', 'Co Debtor', 'Rent House', 'Used Car', 'New Car']]\n",
    "y = german_num['Credit']\n",
    "X_train_all, X_test_all, y_train, y_test = train_test_split(X_all, y, test_size=0.30, random_state=101)\n",
    "X_train_sel, X_test_sel, y_train_sel, y_test_sel = train_test_split(X_sel, y, test_size = 0.30, random_state = 101)"
   ]
  },
  {
   "cell_type": "code",
   "execution_count": null,
   "metadata": {},
   "outputs": [],
   "source": []
  },
  {
   "cell_type": "markdown",
   "metadata": {},
   "source": [
    "## Logistic Regression Basic"
   ]
  },
  {
   "cell_type": "code",
   "execution_count": 74,
   "metadata": {},
   "outputs": [],
   "source": [
    "from sklearn.linear_model import LogisticRegression\n",
    "from sklearn.metrics import classification_report, confusion_matrix"
   ]
  },
  {
   "cell_type": "code",
   "execution_count": 75,
   "metadata": {},
   "outputs": [],
   "source": [
    "logistic_model = LogisticRegression()\n",
    "logistic_model.fit(X_train_sel, y_train_sel)\n",
    "logistic_prediction = logistic_model.predict(X_test_sel)"
   ]
  },
  {
   "cell_type": "code",
   "execution_count": 76,
   "metadata": {
    "scrolled": true
   },
   "outputs": [
    {
     "name": "stdout",
     "output_type": "stream",
     "text": [
      "             precision    recall  f1-score   support\n",
      "\n",
      "          1       0.71      0.92      0.80       204\n",
      "          2       0.56      0.21      0.30        96\n",
      "\n",
      "avg / total       0.66      0.69      0.64       300\n",
      "\n",
      "[[188  16]\n",
      " [ 76  20]]\n",
      "1.32\n"
     ]
    }
   ],
   "source": [
    "print(classification_report(y_test_sel, logistic_prediction))\n",
    "print(confusion_matrix(y_test_sel, logistic_prediction))\n",
    "print((confusion_matrix(y_test_sel, logistic_prediction)[1][0] * 5\n",
    " + confusion_matrix(y_test_sel, logistic_prediction)[0][1]) / len(y_test_sel))"
   ]
  },
  {
   "cell_type": "code",
   "execution_count": null,
   "metadata": {},
   "outputs": [],
   "source": []
  },
  {
   "cell_type": "code",
   "execution_count": 77,
   "metadata": {},
   "outputs": [],
   "source": [
    "from sklearn.neighbors import KNeighborsClassifier"
   ]
  },
  {
   "cell_type": "code",
   "execution_count": 78,
   "metadata": {},
   "outputs": [],
   "source": [
    "knn_model = KNeighborsClassifier(n_neighbors=1)\n",
    "knn_model.fit(X_train_sel, y_train_sel)\n",
    "knn_prediction = knn_model.predict(X_test_sel)"
   ]
  },
  {
   "cell_type": "code",
   "execution_count": 79,
   "metadata": {
    "scrolled": true
   },
   "outputs": [
    {
     "name": "stdout",
     "output_type": "stream",
     "text": [
      "             precision    recall  f1-score   support\n",
      "\n",
      "          1       0.73      0.73      0.73       204\n",
      "          2       0.42      0.42      0.42        96\n",
      "\n",
      "avg / total       0.63      0.63      0.63       300\n",
      "\n",
      "[[149  55]\n",
      " [ 56  40]]\n",
      "1.11666666667\n"
     ]
    }
   ],
   "source": [
    "print(classification_report(y_test_sel, knn_prediction))\n",
    "print(confusion_matrix(y_test_sel, knn_prediction))\n",
    "print((confusion_matrix(y_test_sel, knn_prediction)[1][0] * 5\n",
    " + confusion_matrix(y_test_sel, knn_prediction)[0][1]) / len(y_test_sel))"
   ]
  },
  {
   "cell_type": "code",
   "execution_count": null,
   "metadata": {},
   "outputs": [],
   "source": []
  },
  {
   "cell_type": "markdown",
   "metadata": {},
   "source": [
    "## KNN"
   ]
  },
  {
   "cell_type": "code",
   "execution_count": 80,
   "metadata": {},
   "outputs": [],
   "source": [
    "from sklearn.neighbors import KNeighborsClassifier"
   ]
  },
  {
   "cell_type": "code",
   "execution_count": 81,
   "metadata": {},
   "outputs": [],
   "source": [
    "knn_model = KNeighborsClassifier(n_neighbors=1)\n",
    "knn_model.fit(X_train_sel, y_train)\n",
    "knn_prediction = knn_model.predict(X_test_sel)"
   ]
  },
  {
   "cell_type": "code",
   "execution_count": 82,
   "metadata": {
    "scrolled": true
   },
   "outputs": [
    {
     "name": "stdout",
     "output_type": "stream",
     "text": [
      "             precision    recall  f1-score   support\n",
      "\n",
      "          1       0.73      0.73      0.73       204\n",
      "          2       0.42      0.42      0.42        96\n",
      "\n",
      "avg / total       0.63      0.63      0.63       300\n",
      "\n",
      "[[149  55]\n",
      " [ 56  40]]\n",
      "1.11666666667\n"
     ]
    }
   ],
   "source": [
    "print(classification_report(y_test_sel, knn_prediction))\n",
    "print(confusion_matrix(y_test_sel, knn_prediction))\n",
    "print((confusion_matrix(y_test_sel, knn_prediction)[1][0] * 5\n",
    " + confusion_matrix(y_test_sel, knn_prediction)[0][1]) / len(y_test_sel))"
   ]
  },
  {
   "cell_type": "code",
   "execution_count": 83,
   "metadata": {},
   "outputs": [
    {
     "data": {
      "text/plain": [
       "111"
      ]
     },
     "execution_count": 83,
     "metadata": {},
     "output_type": "execute_result"
    }
   ],
   "source": [
    "60 + 51"
   ]
  },
  {
   "cell_type": "code",
   "execution_count": null,
   "metadata": {},
   "outputs": [],
   "source": []
  },
  {
   "cell_type": "markdown",
   "metadata": {},
   "source": [
    "## Upgraded KNN"
   ]
  },
  {
   "cell_type": "code",
   "execution_count": 130,
   "metadata": {},
   "outputs": [],
   "source": [
    "knn_error_rate = []\n",
    "\n",
    "for i in range(1, 50):\n",
    "    knn_upgraded_model = KNeighborsClassifier(n_neighbors=i)\n",
    "    knn_upgraded_model.fit(X_train_sel, y_train_sel)\n",
    "    i_knn_model = knn_upgraded_model.predict(X_test_sel)\n",
    "    knn_error_rate.append(np.mean(i_knn_model != y_test_sel))"
   ]
  },
  {
   "cell_type": "code",
   "execution_count": 128,
   "metadata": {
    "scrolled": false
   },
   "outputs": [
    {
     "data": {
      "image/png": "[encoded data removed]",
      "text/plain": [
       "<Figure size 720x360 with 1 Axes>"
      ]
     },
     "metadata": {},
     "output_type": "display_data"
    }
   ],
   "source": [
    "plt.figure(figsize = (10, 5))\n",
    "plt.plot(range(1, 50), knn_error_rate, marker = 'o', markerfacecolor = 'red')\n",
    "plt.title('KNN Error Rate by K Value')\n",
    "plt.xlabel('K Value')\n",
    "plt.ylabel('Error Rate');"
   ]
  },
  {
   "cell_type": "code",
   "execution_count": 126,
   "metadata": {
    "scrolled": true
   },
   "outputs": [
    {
     "data": {
      "text/plain": [
       "19"
      ]
     },
     "execution_count": 126,
     "metadata": {},
     "output_type": "execute_result"
    }
   ],
   "source": [
    "knn_error_rate.index(min(knn_error_rate)) + 1\n",
    "# find minimum error rate K Value"
   ]
  },
  {
   "cell_type": "code",
   "execution_count": 127,
   "metadata": {
    "scrolled": true
   },
   "outputs": [
    {
     "name": "stdout",
     "output_type": "stream",
     "text": [
      "With K Value = 2\n",
      "             precision    recall  f1-score   support\n",
      "\n",
      "          1       0.77      0.80      0.79       204\n",
      "          2       0.54      0.49      0.51        96\n",
      "\n",
      "avg / total       0.70      0.70      0.70       300\n",
      "\n",
      "[[164  40]\n",
      " [ 49  47]]\n",
      "0.95\n"
     ]
    }
   ],
   "source": [
    "knn_final_model = KNeighborsClassifier(n_neighbors=19)\n",
    "knn_final_model.fit(X_train_sel, y_train_sel)\n",
    "knn_final_prediction = knn_final_model.predict(X_test_sel)\n",
    "\n",
    "print('With K Value = 2')\n",
    "print(classification_report(y_test_sel, knn_final_prediction))\n",
    "print(confusion_matrix(y_test_sel, knn_final_prediction))\n",
    "print((confusion_matrix(y_test_sel, knn_final_prediction)[1][0] * 5\n",
    " + confusion_matrix(y_test_sel, knn_final_prediction)[0][1]) / len(y_test_sel))"
   ]
  },
  {
   "cell_type": "code",
   "execution_count": null,
   "metadata": {},
   "outputs": [],
   "source": []
  },
  {
   "cell_type": "markdown",
   "metadata": {},
   "source": [
    "## 4. Decision Tree"
   ]
  },
  {
   "cell_type": "code",
   "execution_count": 131,
   "metadata": {},
   "outputs": [],
   "source": [
    "from sklearn.tree import DecisionTreeClassifier"
   ]
  },
  {
   "cell_type": "code",
   "execution_count": 253,
   "metadata": {},
   "outputs": [],
   "source": [
    "dtree_model = DecisionTreeClassifier()\n",
    "dtree_model.fit(X_train_sel, y_train_sel)\n",
    "dtree_prediction = dtree_model.predict(X_test_sel)"
   ]
  },
  {
   "cell_type": "code",
   "execution_count": 254,
   "metadata": {
    "scrolled": false
   },
   "outputs": [
    {
     "name": "stdout",
     "output_type": "stream",
     "text": [
      "             precision    recall  f1-score   support\n",
      "\n",
      "          1       0.71      0.90      0.80       204\n",
      "          2       0.52      0.23      0.32        96\n",
      "\n",
      "avg / total       0.65      0.69      0.64       300\n",
      "\n",
      "[[184  20]\n",
      " [ 74  22]]\n",
      "1.3\n"
     ]
    }
   ],
   "source": [
    "print(classification_report(y_test_sel, dtree_prediction))\n",
    "print(confusion_matrix(y_test_sel, dtree_prediction))\n",
    "print((confusion_matrix(y_test_sel, dtree_prediction)[1][0] * 5\n",
    " + confusion_matrix(y_test_sel, dtree_prediction)[0][1]) / len(y_test_sel))"
   ]
  },
  {
   "cell_type": "code",
   "execution_count": 135,
   "metadata": {},
   "outputs": [
    {
     "data": {
      "text/plain": [
       "94"
      ]
     },
     "execution_count": 135,
     "metadata": {},
     "output_type": "execute_result"
    }
   ],
   "source": [
    "74 + 20"
   ]
  },
  {
   "cell_type": "code",
   "execution_count": null,
   "metadata": {},
   "outputs": [],
   "source": []
  },
  {
   "cell_type": "markdown",
   "metadata": {},
   "source": [
    "## 5. Random Forest"
   ]
  },
  {
   "cell_type": "code",
   "execution_count": 136,
   "metadata": {},
   "outputs": [],
   "source": [
    "from sklearn.ensemble import RandomForestClassifier"
   ]
  },
  {
   "cell_type": "code",
   "execution_count": 257,
   "metadata": {},
   "outputs": [],
   "source": [
    "rf_model = RandomForestClassifier(n_estimators=300)\n",
    "rf_model.fit(X_train_sel, y_train)\n",
    "rf_prediction = rf_model.predict(X_test_sel)"
   ]
  },
  {
   "cell_type": "code",
   "execution_count": 258,
   "metadata": {
    "scrolled": true
   },
   "outputs": [
    {
     "name": "stdout",
     "output_type": "stream",
     "text": [
      "             precision    recall  f1-score   support\n",
      "\n",
      "          1       0.72      0.90      0.80       204\n",
      "          2       0.53      0.24      0.33        96\n",
      "\n",
      "avg / total       0.66      0.69      0.65       300\n",
      "\n",
      "[[184  20]\n",
      " [ 73  23]]\n",
      "1.28333333333\n"
     ]
    }
   ],
   "source": [
    "print(classification_report(y_test_sel, rf_prediction))\n",
    "print(confusion_matrix(y_test_sel, rf_prediction))\n",
    "print((confusion_matrix(y_test_sel, rf_prediction)[1][0] * 5\n",
    " + confusion_matrix(y_test_sel, rf_prediction)[0][1]) / len(y_test_sel))"
   ]
  },
  {
   "cell_type": "code",
   "execution_count": null,
   "metadata": {},
   "outputs": [],
   "source": []
  },
  {
   "cell_type": "markdown",
   "metadata": {},
   "source": [
    "## Support Vector Machine"
   ]
  },
  {
   "cell_type": "code",
   "execution_count": 259,
   "metadata": {},
   "outputs": [],
   "source": [
    "from sklearn.svm import SVC"
   ]
  },
  {
   "cell_type": "code",
   "execution_count": 260,
   "metadata": {},
   "outputs": [],
   "source": [
    "svc_model = SVC()\n",
    "svc_model.fit(X_train_sel, y_train_sel)\n",
    "svc_prediction = svc_model.predict(X_test_sel)"
   ]
  },
  {
   "cell_type": "code",
   "execution_count": 261,
   "metadata": {
    "scrolled": true
   },
   "outputs": [
    {
     "name": "stdout",
     "output_type": "stream",
     "text": [
      "             precision    recall  f1-score   support\n",
      "\n",
      "          1       0.69      0.93      0.79       204\n",
      "          2       0.46      0.14      0.21        96\n",
      "\n",
      "avg / total       0.62      0.67      0.61       300\n",
      "\n",
      "[[189  15]\n",
      " [ 83  13]]\n",
      "1.43333333333\n"
     ]
    }
   ],
   "source": [
    "svc_model = SVC()\n",
    "svc_model.fit(X_train_sel, y_train_sel)\n",
    "svc_prediction = svc_model.predict(X_test_sel)\n",
    "print(classification_report(y_test_sel, svc_prediction))\n",
    "print(confusion_matrix(y_test_sel, svc_prediction))\n",
    "print((confusion_matrix(y_test_sel, svc_prediction)[1][0] * 5\n",
    " + confusion_matrix(y_test_sel, svc_prediction)[0][1]) / len(y_test_sel))"
   ]
  },
  {
   "cell_type": "code",
   "execution_count": 285,
   "metadata": {},
   "outputs": [],
   "source": [
    "X_all = german_num.drop('Credit', axis = 1)\n",
    "X_sel = german_num[['Check DM', 'Co Debtor', 'Rent House', 'Used Car', 'New Car', 'Credit Amount', 'Duration', 'Own House', 'Credit History',\n",
    "                   'Saving Account']]\n",
    "y = german_num['Credit']\n",
    "X_train_all, X_test_all, y_train, y_test = train_test_split(X_all, y, test_size=0.30, random_state=101)\n",
    "X_train_sel, X_test_sel, y_train_sel, y_test_sel = train_test_split(X_sel, y, test_size = 0.30, random_state = 101)"
   ]
  },
  {
   "cell_type": "code",
   "execution_count": null,
   "metadata": {},
   "outputs": [],
   "source": []
  },
  {
   "cell_type": "markdown",
   "metadata": {},
   "source": [
    "## Logistic Regression with Class Weight"
   ]
  },
  {
   "cell_type": "code",
   "execution_count": 286,
   "metadata": {},
   "outputs": [
    {
     "data": {
      "text/plain": [
       "0.145"
      ]
     },
     "execution_count": 286,
     "metadata": {},
     "output_type": "execute_result"
    }
   ],
   "source": [
    "logistic_weight = []\n",
    "for i in np.arange(0, 0.5, 0.005):\n",
    "    logistic_model = LogisticRegression(class_weight={1:i})\n",
    "    logistic_model.fit(X_train_sel, y_train_sel)\n",
    "    logistic_prediction = logistic_model.predict(X_test_sel)\n",
    "    logistic_weight.append((confusion_matrix(y_test_sel, logistic_prediction)[1][0] * 5\n",
    " + confusion_matrix(y_test_sel, logistic_prediction)[0][1]) / len(y_test_sel))\n",
    "logistic_weight.index(min(logistic_weight)) * 0.005"
   ]
  },
  {
   "cell_type": "code",
   "execution_count": 287,
   "metadata": {},
   "outputs": [
    {
     "data": {
      "image/png": "[encoded data removed]",
      "text/plain": [
       "<Figure size 720x360 with 1 Axes>"
      ]
     },
     "metadata": {},
     "output_type": "display_data"
    }
   ],
   "source": [
    "plt.figure(figsize = (10, 5))\n",
    "plt.plot(np.arange(0, 0.5, 0.005), logistic_weight, marker = 'o', markerfacecolor = 'red');"
   ]
  },
  {
   "cell_type": "code",
   "execution_count": 291,
   "metadata": {
    "scrolled": true
   },
   "outputs": [
    {
     "name": "stdout",
     "output_type": "stream",
     "text": [
      "             precision    recall  f1-score   support\n",
      "\n",
      "          1       0.93      0.41      0.57       204\n",
      "          2       0.43      0.94      0.59        96\n",
      "\n",
      "avg / total       0.77      0.58      0.57       300\n",
      "\n",
      "[[ 83 121]\n",
      " [  6  90]]\n",
      "0.503333333333\n"
     ]
    }
   ],
   "source": [
    "logistic_model = LogisticRegression(class_weight={1:0.145})\n",
    "logistic_model.fit(X_train_sel, y_train)\n",
    "logistic_prediction = logistic_model.predict(X_test_sel)\n",
    "print(classification_report(y_test_sel, logistic_prediction))\n",
    "print(confusion_matrix(y_test_sel, logistic_prediction))\n",
    "print((confusion_matrix(y_test_sel, logistic_prediction)[1][0] * 5\n",
    " + confusion_matrix(y_test_sel, logistic_prediction)[0][1]) / len(y_test_sel))"
   ]
  },
  {
   "cell_type": "code",
   "execution_count": 303,
   "metadata": {},
   "outputs": [],
   "source": [
    "col_list = ['Check DM', 'Co Debtor', 'Rent House', 'Used Car', 'New Car', 'Credit Amount', 'Duration', 'Own House', 'Credit History',\n",
    "                   'Saving Account']"
   ]
  },
  {
   "cell_type": "code",
   "execution_count": 304,
   "metadata": {},
   "outputs": [
    {
     "data": {
      "text/html": [
       "<div>\n",
       "<style scoped>\n",
       "    .dataframe tbody tr th:only-of-type {\n",
       "        vertical-align: middle;\n",
       "    }\n",
       "\n",
       "    .dataframe tbody tr th {\n",
       "        vertical-align: top;\n",
       "    }\n",
       "\n",
       "    .dataframe thead th {\n",
       "        text-align: right;\n",
       "    }\n",
       "</style>\n",
       "<table border=\"1\" class=\"dataframe\">\n",
       "  <thead>\n",
       "    <tr style=\"text-align: right;\">\n",
       "      <th></th>\n",
       "      <th>cols</th>\n",
       "      <th>coefs</th>\n",
       "    </tr>\n",
       "  </thead>\n",
       "  <tbody>\n",
       "    <tr>\n",
       "      <th>0</th>\n",
       "      <td>Check DM</td>\n",
       "      <td>-0.523568</td>\n",
       "    </tr>\n",
       "    <tr>\n",
       "      <th>1</th>\n",
       "      <td>Co Debtor</td>\n",
       "      <td>0.051849</td>\n",
       "    </tr>\n",
       "    <tr>\n",
       "      <th>2</th>\n",
       "      <td>Rent House</td>\n",
       "      <td>0.576300</td>\n",
       "    </tr>\n",
       "    <tr>\n",
       "      <th>3</th>\n",
       "      <td>Used Car</td>\n",
       "      <td>-0.970096</td>\n",
       "    </tr>\n",
       "    <tr>\n",
       "      <th>4</th>\n",
       "      <td>New Car</td>\n",
       "      <td>0.474604</td>\n",
       "    </tr>\n",
       "    <tr>\n",
       "      <th>5</th>\n",
       "      <td>Credit Amount</td>\n",
       "      <td>0.004388</td>\n",
       "    </tr>\n",
       "    <tr>\n",
       "      <th>6</th>\n",
       "      <td>Duration</td>\n",
       "      <td>0.044466</td>\n",
       "    </tr>\n",
       "    <tr>\n",
       "      <th>7</th>\n",
       "      <td>Own House</td>\n",
       "      <td>0.076745</td>\n",
       "    </tr>\n",
       "    <tr>\n",
       "      <th>8</th>\n",
       "      <td>Credit History</td>\n",
       "      <td>-0.262483</td>\n",
       "    </tr>\n",
       "    <tr>\n",
       "      <th>9</th>\n",
       "      <td>Saving Account</td>\n",
       "      <td>-0.148006</td>\n",
       "    </tr>\n",
       "  </tbody>\n",
       "</table>\n",
       "</div>"
      ],
      "text/plain": [
       "             cols     coefs\n",
       "0        Check DM -0.523568\n",
       "1       Co Debtor  0.051849\n",
       "2      Rent House  0.576300\n",
       "3        Used Car -0.970096\n",
       "4         New Car  0.474604\n",
       "5   Credit Amount  0.004388\n",
       "6        Duration  0.044466\n",
       "7       Own House  0.076745\n",
       "8  Credit History -0.262483\n",
       "9  Saving Account -0.148006"
      ]
     },
     "execution_count": 304,
     "metadata": {},
     "output_type": "execute_result"
    }
   ],
   "source": [
    "pd.DataFrame({'cols':col_list, 'coefs':logistic_model.coef_[0]})"
   ]
  },
  {
   "cell_type": "code",
   "execution_count": 374,
   "metadata": {},
   "outputs": [
    {
     "name": "stdout",
     "output_type": "stream",
     "text": [
      "[ 1.82274788]\n"
     ]
    }
   ],
   "source": [
    "print(logistic_model.intercept_)"
   ]
  },
  {
   "cell_type": "markdown",
   "metadata": {},
   "source": [
    "## SVM with Class Weight"
   ]
  },
  {
   "cell_type": "code",
   "execution_count": 273,
   "metadata": {},
   "outputs": [],
   "source": [
    "from sklearn.svm import SVC"
   ]
  },
  {
   "cell_type": "code",
   "execution_count": 293,
   "metadata": {
    "scrolled": false
   },
   "outputs": [
    {
     "data": {
      "text/plain": [
       "0.19"
      ]
     },
     "execution_count": 293,
     "metadata": {},
     "output_type": "execute_result"
    }
   ],
   "source": [
    "svm_weight = []\n",
    "for i in np.arange(0, 1, 0.005):\n",
    "    svc_model = SVC(class_weight = {1:i})\n",
    "    svc_model.fit(X_train_sel, y_train_sel)\n",
    "    svc_prediction = svc_model.predict(X_test_sel)\n",
    "    result = (confusion_matrix(y_test_sel, svc_prediction)[1][0] * 5\n",
    " + confusion_matrix(y_test_sel, svc_prediction)[0][1]) / len(y_test_sel)\n",
    "    svm_weight.append(result)\n",
    "( svm_weight.index(min(svm_weight)) ) * 0.005"
   ]
  },
  {
   "cell_type": "code",
   "execution_count": 290,
   "metadata": {
    "scrolled": true
   },
   "outputs": [
    {
     "data": {
      "image/png": "[encoded data removed]",
      "text/plain": [
       "<Figure size 720x360 with 1 Axes>"
      ]
     },
     "metadata": {},
     "output_type": "display_data"
    }
   ],
   "source": [
    "plt.figure(figsize = (10, 5))\n",
    "plt.plot(np.arange(0, 1, 0.005), svm_weight, marker = 'o', markerfacecolor = 'red');"
   ]
  },
  {
   "cell_type": "code",
   "execution_count": 295,
   "metadata": {
    "scrolled": true
   },
   "outputs": [
    {
     "name": "stdout",
     "output_type": "stream",
     "text": [
      "             precision    recall  f1-score   support\n",
      "\n",
      "          1       0.88      0.18      0.30       204\n",
      "          2       0.35      0.95      0.51        96\n",
      "\n",
      "avg / total       0.71      0.43      0.37       300\n",
      "\n",
      "[[ 37 167]\n",
      " [  5  91]]\n",
      "0.64\n"
     ]
    }
   ],
   "source": [
    "svc_model = SVC(class_weight={1:0.19})\n",
    "svc_model.fit(X_train_sel, y_train_sel)\n",
    "svc_prediction = svc_model.predict(X_test_sel)\n",
    "print(classification_report(y_test_sel, svc_prediction))\n",
    "print(confusion_matrix(y_test_sel, svc_prediction))\n",
    "print((confusion_matrix(y_test_sel, svc_prediction)[1][0] * 5\n",
    " + confusion_matrix(y_test_sel, svc_prediction)[0][1]) / len(y_test_sel))"
   ]
  },
  {
   "cell_type": "code",
   "execution_count": null,
   "metadata": {},
   "outputs": [],
   "source": []
  },
  {
   "cell_type": "code",
   "execution_count": 305,
   "metadata": {},
   "outputs": [],
   "source": [
    "F_test = pd.read_csv('F_test.csv', header=None)"
   ]
  },
  {
   "cell_type": "code",
   "execution_count": 307,
   "metadata": {},
   "outputs": [],
   "source": [
    "col_names = ['Check DM', 'Duration', 'Credit History', 'Credit Amount',\n",
    "            'Saving Account', 'Employment', 'Personal Status', 'Residence',\n",
    "            'Property', 'Age', 'Other Installment', 'Existing Credit',\n",
    "            'Liable People', 'Telephone', 'Foreign', 'New Car', 'Used Car', 'No Debtor', 'Co Debtor',\n",
    "            'Rent House','Own House', 'Job1', 'Job2', 'Job3']\n",
    "F_test.columns = col_names"
   ]
  },
  {
   "cell_type": "code",
   "execution_count": 347,
   "metadata": {},
   "outputs": [
    {
     "data": {
      "text/plain": [
       "0    0\n",
       "1    1\n",
       "2    1\n",
       "3    3\n",
       "4    3\n",
       "5    1\n",
       "6    0\n",
       "Name: Check DM, dtype: int64"
      ]
     },
     "execution_count": 347,
     "metadata": {},
     "output_type": "execute_result"
    }
   ],
   "source": [
    "F_test['Check DM']"
   ]
  },
  {
   "cell_type": "code",
   "execution_count": 348,
   "metadata": {
    "scrolled": false
   },
   "outputs": [],
   "source": [
    "F_test = F_test[['Check DM', 'Co Debtor', 'Rent House', 'Used Car', 'New Car', 'Credit Amount',\n",
    "       'Duration', 'Own House', 'Credit History','Saving Account']]"
   ]
  },
  {
   "cell_type": "code",
   "execution_count": 349,
   "metadata": {
    "scrolled": true
   },
   "outputs": [
    {
     "data": {
      "text/plain": [
       "545    1\n",
       "298    1\n",
       "109    1\n",
       "837    1\n",
       "194    1\n",
       "Name: Credit, dtype: int64"
      ]
     },
     "execution_count": 349,
     "metadata": {},
     "output_type": "execute_result"
    }
   ],
   "source": [
    "y_test.head()"
   ]
  },
  {
   "cell_type": "code",
   "execution_count": 350,
   "metadata": {
    "scrolled": true
   },
   "outputs": [],
   "source": [
    "y_Ftest = y_test"
   ]
  },
  {
   "cell_type": "code",
   "execution_count": 351,
   "metadata": {},
   "outputs": [],
   "source": [
    "y_Ftest = y_Ftest[:7]\n",
    "y_Ftest.iloc[5] = 1"
   ]
  },
  {
   "cell_type": "code",
   "execution_count": 367,
   "metadata": {},
   "outputs": [],
   "source": [
    "for i in range(0, 7):\n",
    "    y_Ftest.iloc[i] = 1"
   ]
  },
  {
   "cell_type": "code",
   "execution_count": 368,
   "metadata": {},
   "outputs": [],
   "source": [
    "y_Ftest.index = [0, 1, 2, 3, 4, 5, 6]"
   ]
  },
  {
   "cell_type": "code",
   "execution_count": 369,
   "metadata": {
    "scrolled": true
   },
   "outputs": [
    {
     "data": {
      "text/plain": [
       "0    1\n",
       "1    1\n",
       "2    1\n",
       "3    1\n",
       "4    1\n",
       "5    1\n",
       "6    1\n",
       "Name: Credit, dtype: int64"
      ]
     },
     "execution_count": 369,
     "metadata": {},
     "output_type": "execute_result"
    }
   ],
   "source": [
    "y_Ftest"
   ]
  },
  {
   "cell_type": "code",
   "execution_count": 370,
   "metadata": {},
   "outputs": [
    {
     "data": {
      "text/html": [
       "<div>\n",
       "<style scoped>\n",
       "    .dataframe tbody tr th:only-of-type {\n",
       "        vertical-align: middle;\n",
       "    }\n",
       "\n",
       "    .dataframe tbody tr th {\n",
       "        vertical-align: top;\n",
       "    }\n",
       "\n",
       "    .dataframe thead th {\n",
       "        text-align: right;\n",
       "    }\n",
       "</style>\n",
       "<table border=\"1\" class=\"dataframe\">\n",
       "  <thead>\n",
       "    <tr style=\"text-align: right;\">\n",
       "      <th></th>\n",
       "      <th>Check DM</th>\n",
       "      <th>Co Debtor</th>\n",
       "      <th>Rent House</th>\n",
       "      <th>Used Car</th>\n",
       "      <th>New Car</th>\n",
       "      <th>Credit Amount</th>\n",
       "      <th>Duration</th>\n",
       "      <th>Own House</th>\n",
       "      <th>Credit History</th>\n",
       "      <th>Saving Account</th>\n",
       "    </tr>\n",
       "  </thead>\n",
       "  <tbody>\n",
       "    <tr>\n",
       "      <th>0</th>\n",
       "      <td>0</td>\n",
       "      <td>0</td>\n",
       "      <td>0</td>\n",
       "      <td>0</td>\n",
       "      <td>0</td>\n",
       "      <td>30</td>\n",
       "      <td>0</td>\n",
       "      <td>1</td>\n",
       "      <td>0</td>\n",
       "      <td>2</td>\n",
       "    </tr>\n",
       "    <tr>\n",
       "      <th>1</th>\n",
       "      <td>1</td>\n",
       "      <td>0</td>\n",
       "      <td>1</td>\n",
       "      <td>1</td>\n",
       "      <td>0</td>\n",
       "      <td>25</td>\n",
       "      <td>0</td>\n",
       "      <td>0</td>\n",
       "      <td>0</td>\n",
       "      <td>3</td>\n",
       "    </tr>\n",
       "    <tr>\n",
       "      <th>2</th>\n",
       "      <td>1</td>\n",
       "      <td>0</td>\n",
       "      <td>1</td>\n",
       "      <td>0</td>\n",
       "      <td>0</td>\n",
       "      <td>5</td>\n",
       "      <td>0</td>\n",
       "      <td>0</td>\n",
       "      <td>0</td>\n",
       "      <td>1</td>\n",
       "    </tr>\n",
       "    <tr>\n",
       "      <th>3</th>\n",
       "      <td>3</td>\n",
       "      <td>0</td>\n",
       "      <td>1</td>\n",
       "      <td>0</td>\n",
       "      <td>0</td>\n",
       "      <td>0</td>\n",
       "      <td>1</td>\n",
       "      <td>0</td>\n",
       "      <td>0</td>\n",
       "      <td>1</td>\n",
       "    </tr>\n",
       "    <tr>\n",
       "      <th>4</th>\n",
       "      <td>3</td>\n",
       "      <td>1</td>\n",
       "      <td>0</td>\n",
       "      <td>0</td>\n",
       "      <td>0</td>\n",
       "      <td>20</td>\n",
       "      <td>5</td>\n",
       "      <td>1</td>\n",
       "      <td>0</td>\n",
       "      <td>1</td>\n",
       "    </tr>\n",
       "    <tr>\n",
       "      <th>5</th>\n",
       "      <td>1</td>\n",
       "      <td>0</td>\n",
       "      <td>0</td>\n",
       "      <td>0</td>\n",
       "      <td>0</td>\n",
       "      <td>0</td>\n",
       "      <td>0</td>\n",
       "      <td>0</td>\n",
       "      <td>0</td>\n",
       "      <td>1</td>\n",
       "    </tr>\n",
       "    <tr>\n",
       "      <th>6</th>\n",
       "      <td>0</td>\n",
       "      <td>0</td>\n",
       "      <td>1</td>\n",
       "      <td>0</td>\n",
       "      <td>0</td>\n",
       "      <td>50</td>\n",
       "      <td>0</td>\n",
       "      <td>0</td>\n",
       "      <td>0</td>\n",
       "      <td>5</td>\n",
       "    </tr>\n",
       "  </tbody>\n",
       "</table>\n",
       "</div>"
      ],
      "text/plain": [
       "   Check DM  Co Debtor  Rent House  Used Car  New Car  Credit Amount  \\\n",
       "0         0          0           0         0        0             30   \n",
       "1         1          0           1         1        0             25   \n",
       "2         1          0           1         0        0              5   \n",
       "3         3          0           1         0        0              0   \n",
       "4         3          1           0         0        0             20   \n",
       "5         1          0           0         0        0              0   \n",
       "6         0          0           1         0        0             50   \n",
       "\n",
       "   Duration  Own House  Credit History  Saving Account  \n",
       "0         0          1               0               2  \n",
       "1         0          0               0               3  \n",
       "2         0          0               0               1  \n",
       "3         1          0               0               1  \n",
       "4         5          1               0               1  \n",
       "5         0          0               0               1  \n",
       "6         0          0               0               5  "
      ]
     },
     "execution_count": 370,
     "metadata": {},
     "output_type": "execute_result"
    }
   ],
   "source": [
    "F_test"
   ]
  },
  {
   "cell_type": "code",
   "execution_count": 371,
   "metadata": {},
   "outputs": [],
   "source": [
    "logistic_prediction = logistic_model.predict(F_test)"
   ]
  },
  {
   "cell_type": "code",
   "execution_count": 373,
   "metadata": {
    "scrolled": true
   },
   "outputs": [
    {
     "name": "stdout",
     "output_type": "stream",
     "text": [
      "             precision    recall  f1-score   support\n",
      "\n",
      "          1       0.00      0.00      0.00         7\n",
      "          2       0.00      0.00      0.00         0\n",
      "\n",
      "avg / total       0.00      0.00      0.00         7\n",
      "\n",
      "[[0 7]\n",
      " [0 0]]\n"
     ]
    },
    {
     "name": "stderr",
     "output_type": "stream",
     "text": [
      "/Users/sungjae/y36/lib/python3.6/site-packages/sklearn/metrics/classification.py:1135: UndefinedMetricWarning: Precision and F-score are ill-defined and being set to 0.0 in labels with no predicted samples.\n",
      "  'precision', 'predicted', average, warn_for)\n",
      "/Users/sungjae/y36/lib/python3.6/site-packages/sklearn/metrics/classification.py:1137: UndefinedMetricWarning: Recall and F-score are ill-defined and being set to 0.0 in labels with no true samples.\n",
      "  'recall', 'true', average, warn_for)\n"
     ]
    }
   ],
   "source": [
    "logistic_prediction = logistic_model.predict(F_test)\n",
    "print(classification_report(y_Ftest, logistic_prediction))\n",
    "print(confusion_matrix(y_Ftest, logistic_prediction))"
   ]
  },
  {
   "cell_type": "code",
   "execution_count": null,
   "metadata": {},
   "outputs": [],
   "source": []
  },
  {
   "cell_type": "code",
   "execution_count": null,
   "metadata": {},
   "outputs": [],
   "source": []
  },
  {
   "cell_type": "code",
   "execution_count": null,
   "metadata": {},
   "outputs": [],
   "source": []
  },
  {
   "cell_type": "code",
   "execution_count": null,
   "metadata": {},
   "outputs": [],
   "source": []
  },
  {
   "cell_type": "code",
   "execution_count": null,
   "metadata": {},
   "outputs": [],
   "source": []
  }
 ],
 "metadata": {
  "kernelspec": {
   "display_name": "Python 3",
   "language": "python",
   "name": "python3"
  },
  "language_info": {
   "codemirror_mode": {
    "name": "ipython",
    "version": 3
   },
   "file_extension": ".py",
   "mimetype": "text/x-python",
   "name": "python",
   "nbconvert_exporter": "python",
   "pygments_lexer": "ipython3",
   "version": "3.6.5"
  }
 },
 "nbformat": 4,
 "nbformat_minor": 2
}

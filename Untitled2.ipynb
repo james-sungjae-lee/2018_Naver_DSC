{
 "cells": [
  {
   "cell_type": "markdown",
   "metadata": {},
   "source": [
    "## 흐름\n",
    "## 1. 로지스틱 일반\n",
    "## 2. KNN 과 Upgrade KNN\n",
    "## 3. Decision Tree 와 Random Forest\n",
    "## 4. SVM\n",
    "\n",
    "## 5. class weighted 로지스틱\n",
    "## 6. class weighted SVM"
   ]
  },
  {
   "cell_type": "code",
   "execution_count": 1,
   "metadata": {},
   "outputs": [],
   "source": [
    "import pandas as pd\n",
    "import numpy as np\n",
    "import matplotlib.pyplot as plt\n",
    "import seaborn as sns\n",
    "%matplotlib inline"
   ]
  },
  {
   "cell_type": "code",
   "execution_count": 2,
   "metadata": {},
   "outputs": [],
   "source": [
    "german_num = pd.read_csv('german.data-numeric.txt',sep='\\s+',header=None)\n",
    "german_txt = pd.read_csv('german.data.txt', sep = '\\s+', header = None)"
   ]
  },
  {
   "cell_type": "code",
   "execution_count": 5,
   "metadata": {},
   "outputs": [],
   "source": [
    "col_names = ['Check DM', 'Duration', 'Credit History', 'Credit Amount',\n",
    "            'Saving Account', 'Employment', 'Personal Status', 'Residence',\n",
    "            'Property', 'Age', 'Other Installment', 'Existing Credit',\n",
    "            'Liable People', 'Telephone', 'Foreign', 'New Car', 'Used Car', 'No Debtor', 'Co Debtor',\n",
    "            'Rent House','Own House', 'Job1', 'Job2', 'Job3', 'Credit']\n",
    "german_num.columns = col_names"
   ]
  },
  {
   "cell_type": "code",
   "execution_count": null,
   "metadata": {},
   "outputs": [],
   "source": []
  },
  {
   "cell_type": "markdown",
   "metadata": {},
   "source": [
    "## Train - Test data split"
   ]
  },
  {
   "cell_type": "code",
   "execution_count": 6,
   "metadata": {},
   "outputs": [],
   "source": [
    "from sklearn.model_selection import train_test_split"
   ]
  },
  {
   "cell_type": "code",
   "execution_count": 9,
   "metadata": {},
   "outputs": [],
   "source": [
    "X_all = german_num.drop('Credit', axis = 1)\n",
    "X_sel = german_num[['Check DM', 'Co Debtor', 'Rent House', 'Used Car', 'New Car']]\n",
    "y = german_num['Credit']\n",
    "X_train_all, X_test_all, y_train, y_test = train_test_split(X_all, y, test_size=0.30, random_state=101)\n",
    "X_train_sel, X_test_sel = train_test_split(X_sel, test_size = 0.30, random_state = 102)"
   ]
  },
  {
   "cell_type": "code",
   "execution_count": null,
   "metadata": {},
   "outputs": [],
   "source": []
  },
  {
   "cell_type": "markdown",
   "metadata": {},
   "source": [
    "## Logistic Regression Basic"
   ]
  },
  {
   "cell_type": "code",
   "execution_count": 17,
   "metadata": {},
   "outputs": [],
   "source": [
    "from sklearn.linear_model import LogisticRegression\n",
    "from sklearn.metrics import classification_report, confusion_matrix"
   ]
  },
  {
   "cell_type": "code",
   "execution_count": 18,
   "metadata": {},
   "outputs": [],
   "source": [
    "logistic_model = LogisticRegression()\n",
    "logistic_model.fit(X_train_sel, y_train)\n",
    "logistic_prediction = logistic_model.predict(X_test_sel)"
   ]
  },
  {
   "cell_type": "code",
   "execution_count": 19,
   "metadata": {
    "scrolled": true
   },
   "outputs": [
    {
     "name": "stdout",
     "output_type": "stream",
     "text": [
      "             precision    recall  f1-score   support\n",
      "\n",
      "          1       0.77      0.91      0.83       204\n",
      "          2       0.68      0.42      0.52        96\n",
      "\n",
      "avg / total       0.74      0.75      0.73       300\n",
      "\n",
      "[[185  19]\n",
      " [ 56  40]]\n",
      "0.996666666667\n"
     ]
    }
   ],
   "source": [
    "print(classification_report(y_test, logistic_prediction))\n",
    "print(confusion_matrix(y_test, logistic_prediction))\n",
    "print((confusion_matrix(y_test, logistic_prediction)[1][0] * 5\n",
    " + confusion_matrix(y_test, logistic_prediction)[0][1]) / len(y_test))"
   ]
  },
  {
   "cell_type": "code",
   "execution_count": null,
   "metadata": {},
   "outputs": [],
   "source": []
  },
  {
   "cell_type": "code",
   "execution_count": null,
   "metadata": {},
   "outputs": [],
   "source": []
  },
  {
   "cell_type": "code",
   "execution_count": null,
   "metadata": {},
   "outputs": [],
   "source": []
  },
  {
   "cell_type": "code",
   "execution_count": null,
   "metadata": {},
   "outputs": [],
   "source": []
  },
  {
   "cell_type": "code",
   "execution_count": null,
   "metadata": {},
   "outputs": [],
   "source": []
  }
 ],
 "metadata": {
  "kernelspec": {
   "display_name": "Python 3",
   "language": "python",
   "name": "python3"
  },
  "language_info": {
   "codemirror_mode": {
    "name": "ipython",
    "version": 3
   },
   "file_extension": ".py",
   "mimetype": "text/x-python",
   "name": "python",
   "nbconvert_exporter": "python",
   "pygments_lexer": "ipython3",
   "version": "3.6.5"
  }
 },
 "nbformat": 4,
 "nbformat_minor": 2
}

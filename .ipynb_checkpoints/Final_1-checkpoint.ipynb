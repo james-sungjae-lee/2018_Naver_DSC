{
 "cells": [
  {
   "cell_type": "markdown",
   "metadata": {},
   "source": [
    "## Naver Data Science Competition\n",
    "## German Credit Prediction\n",
    "## 20180728_ Sungjae Lee\n",
    "### _\n",
    "### 0. Data Preprocessing\n",
    "### 1. Exploratory Data Analysis\n",
    "### _\n",
    "### 2. Logistic Regression\n",
    "### 3. KNN\n",
    "### 4. Decision Tree\n",
    "### 5. Random Forest\n",
    "### 6. K Mean\n",
    "### 7. Support Vector Machine\n",
    "### _\n",
    "### 8. Conclusion\n",
    "### _"
   ]
  },
  {
   "cell_type": "markdown",
   "metadata": {},
   "source": [
    "## 0. Data Preprocessing"
   ]
  },
  {
   "cell_type": "code",
   "execution_count": 1,
   "metadata": {},
   "outputs": [],
   "source": [
    "import pandas as pd\n",
    "import numpy as np\n",
    "import matplotlib.pyplot as plt\n",
    "import seaborn as sns\n",
    "%matplotlib inline\n",
    "\n",
    "# 데이터 분석에 사용될 pandas / numpy 패키지를 불러온다.\n",
    "# 데이터 시각화에 사용될 matplotlib / seaborn 패키지를 불러온다."
   ]
  },
  {
   "cell_type": "code",
   "execution_count": 2,
   "metadata": {},
   "outputs": [],
   "source": [
    "german_num = pd.read_csv('german.data-numeric.txt',sep='\\s+',header=None)\n",
    "german_txt = pd.read_csv('german.data.txt', sep = '\\s+', header = None)"
   ]
  },
  {
   "cell_type": "code",
   "execution_count": 3,
   "metadata": {},
   "outputs": [
    {
     "data": {
      "text/html": [
       "<div>\n",
       "<style scoped>\n",
       "    .dataframe tbody tr th:only-of-type {\n",
       "        vertical-align: middle;\n",
       "    }\n",
       "\n",
       "    .dataframe tbody tr th {\n",
       "        vertical-align: top;\n",
       "    }\n",
       "\n",
       "    .dataframe thead th {\n",
       "        text-align: right;\n",
       "    }\n",
       "</style>\n",
       "<table border=\"1\" class=\"dataframe\">\n",
       "  <thead>\n",
       "    <tr style=\"text-align: right;\">\n",
       "      <th></th>\n",
       "      <th>0</th>\n",
       "      <th>1</th>\n",
       "      <th>2</th>\n",
       "      <th>3</th>\n",
       "      <th>4</th>\n",
       "      <th>5</th>\n",
       "      <th>6</th>\n",
       "      <th>7</th>\n",
       "      <th>8</th>\n",
       "      <th>9</th>\n",
       "      <th>...</th>\n",
       "      <th>15</th>\n",
       "      <th>16</th>\n",
       "      <th>17</th>\n",
       "      <th>18</th>\n",
       "      <th>19</th>\n",
       "      <th>20</th>\n",
       "      <th>21</th>\n",
       "      <th>22</th>\n",
       "      <th>23</th>\n",
       "      <th>24</th>\n",
       "    </tr>\n",
       "  </thead>\n",
       "  <tbody>\n",
       "    <tr>\n",
       "      <th>0</th>\n",
       "      <td>1</td>\n",
       "      <td>6</td>\n",
       "      <td>4</td>\n",
       "      <td>12</td>\n",
       "      <td>5</td>\n",
       "      <td>5</td>\n",
       "      <td>3</td>\n",
       "      <td>4</td>\n",
       "      <td>1</td>\n",
       "      <td>67</td>\n",
       "      <td>...</td>\n",
       "      <td>0</td>\n",
       "      <td>0</td>\n",
       "      <td>1</td>\n",
       "      <td>0</td>\n",
       "      <td>0</td>\n",
       "      <td>1</td>\n",
       "      <td>0</td>\n",
       "      <td>0</td>\n",
       "      <td>1</td>\n",
       "      <td>1</td>\n",
       "    </tr>\n",
       "    <tr>\n",
       "      <th>1</th>\n",
       "      <td>2</td>\n",
       "      <td>48</td>\n",
       "      <td>2</td>\n",
       "      <td>60</td>\n",
       "      <td>1</td>\n",
       "      <td>3</td>\n",
       "      <td>2</td>\n",
       "      <td>2</td>\n",
       "      <td>1</td>\n",
       "      <td>22</td>\n",
       "      <td>...</td>\n",
       "      <td>0</td>\n",
       "      <td>0</td>\n",
       "      <td>1</td>\n",
       "      <td>0</td>\n",
       "      <td>0</td>\n",
       "      <td>1</td>\n",
       "      <td>0</td>\n",
       "      <td>0</td>\n",
       "      <td>1</td>\n",
       "      <td>2</td>\n",
       "    </tr>\n",
       "    <tr>\n",
       "      <th>2</th>\n",
       "      <td>4</td>\n",
       "      <td>12</td>\n",
       "      <td>4</td>\n",
       "      <td>21</td>\n",
       "      <td>1</td>\n",
       "      <td>4</td>\n",
       "      <td>3</td>\n",
       "      <td>3</td>\n",
       "      <td>1</td>\n",
       "      <td>49</td>\n",
       "      <td>...</td>\n",
       "      <td>0</td>\n",
       "      <td>0</td>\n",
       "      <td>1</td>\n",
       "      <td>0</td>\n",
       "      <td>0</td>\n",
       "      <td>1</td>\n",
       "      <td>0</td>\n",
       "      <td>1</td>\n",
       "      <td>0</td>\n",
       "      <td>1</td>\n",
       "    </tr>\n",
       "    <tr>\n",
       "      <th>3</th>\n",
       "      <td>1</td>\n",
       "      <td>42</td>\n",
       "      <td>2</td>\n",
       "      <td>79</td>\n",
       "      <td>1</td>\n",
       "      <td>4</td>\n",
       "      <td>3</td>\n",
       "      <td>4</td>\n",
       "      <td>2</td>\n",
       "      <td>45</td>\n",
       "      <td>...</td>\n",
       "      <td>0</td>\n",
       "      <td>0</td>\n",
       "      <td>0</td>\n",
       "      <td>0</td>\n",
       "      <td>0</td>\n",
       "      <td>0</td>\n",
       "      <td>0</td>\n",
       "      <td>0</td>\n",
       "      <td>1</td>\n",
       "      <td>1</td>\n",
       "    </tr>\n",
       "    <tr>\n",
       "      <th>4</th>\n",
       "      <td>1</td>\n",
       "      <td>24</td>\n",
       "      <td>3</td>\n",
       "      <td>49</td>\n",
       "      <td>1</td>\n",
       "      <td>3</td>\n",
       "      <td>3</td>\n",
       "      <td>4</td>\n",
       "      <td>4</td>\n",
       "      <td>53</td>\n",
       "      <td>...</td>\n",
       "      <td>1</td>\n",
       "      <td>0</td>\n",
       "      <td>1</td>\n",
       "      <td>0</td>\n",
       "      <td>0</td>\n",
       "      <td>0</td>\n",
       "      <td>0</td>\n",
       "      <td>0</td>\n",
       "      <td>1</td>\n",
       "      <td>2</td>\n",
       "    </tr>\n",
       "  </tbody>\n",
       "</table>\n",
       "<p>5 rows × 25 columns</p>\n",
       "</div>"
      ],
      "text/plain": [
       "   0   1   2   3   4   5   6   7   8   9  ...  15  16  17  18  19  20  21  22  \\\n",
       "0   1   6   4  12   5   5   3   4   1  67 ...   0   0   1   0   0   1   0   0   \n",
       "1   2  48   2  60   1   3   2   2   1  22 ...   0   0   1   0   0   1   0   0   \n",
       "2   4  12   4  21   1   4   3   3   1  49 ...   0   0   1   0   0   1   0   1   \n",
       "3   1  42   2  79   1   4   3   4   2  45 ...   0   0   0   0   0   0   0   0   \n",
       "4   1  24   3  49   1   3   3   4   4  53 ...   1   0   1   0   0   0   0   0   \n",
       "\n",
       "   23  24  \n",
       "0   1   1  \n",
       "1   1   2  \n",
       "2   0   1  \n",
       "3   1   1  \n",
       "4   1   2  \n",
       "\n",
       "[5 rows x 25 columns]"
      ]
     },
     "execution_count": 3,
     "metadata": {},
     "output_type": "execute_result"
    }
   ],
   "source": [
    "german_num.head()"
   ]
  },
  {
   "cell_type": "code",
   "execution_count": 4,
   "metadata": {},
   "outputs": [
    {
     "data": {
      "text/html": [
       "<div>\n",
       "<style scoped>\n",
       "    .dataframe tbody tr th:only-of-type {\n",
       "        vertical-align: middle;\n",
       "    }\n",
       "\n",
       "    .dataframe tbody tr th {\n",
       "        vertical-align: top;\n",
       "    }\n",
       "\n",
       "    .dataframe thead th {\n",
       "        text-align: right;\n",
       "    }\n",
       "</style>\n",
       "<table border=\"1\" class=\"dataframe\">\n",
       "  <thead>\n",
       "    <tr style=\"text-align: right;\">\n",
       "      <th></th>\n",
       "      <th>0</th>\n",
       "      <th>1</th>\n",
       "      <th>2</th>\n",
       "      <th>3</th>\n",
       "      <th>4</th>\n",
       "      <th>5</th>\n",
       "      <th>6</th>\n",
       "      <th>7</th>\n",
       "      <th>8</th>\n",
       "      <th>9</th>\n",
       "      <th>...</th>\n",
       "      <th>11</th>\n",
       "      <th>12</th>\n",
       "      <th>13</th>\n",
       "      <th>14</th>\n",
       "      <th>15</th>\n",
       "      <th>16</th>\n",
       "      <th>17</th>\n",
       "      <th>18</th>\n",
       "      <th>19</th>\n",
       "      <th>20</th>\n",
       "    </tr>\n",
       "  </thead>\n",
       "  <tbody>\n",
       "    <tr>\n",
       "      <th>0</th>\n",
       "      <td>A11</td>\n",
       "      <td>6</td>\n",
       "      <td>A34</td>\n",
       "      <td>A43</td>\n",
       "      <td>1169</td>\n",
       "      <td>A65</td>\n",
       "      <td>A75</td>\n",
       "      <td>4</td>\n",
       "      <td>A93</td>\n",
       "      <td>A101</td>\n",
       "      <td>...</td>\n",
       "      <td>A121</td>\n",
       "      <td>67</td>\n",
       "      <td>A143</td>\n",
       "      <td>A152</td>\n",
       "      <td>2</td>\n",
       "      <td>A173</td>\n",
       "      <td>1</td>\n",
       "      <td>A192</td>\n",
       "      <td>A201</td>\n",
       "      <td>1</td>\n",
       "    </tr>\n",
       "    <tr>\n",
       "      <th>1</th>\n",
       "      <td>A12</td>\n",
       "      <td>48</td>\n",
       "      <td>A32</td>\n",
       "      <td>A43</td>\n",
       "      <td>5951</td>\n",
       "      <td>A61</td>\n",
       "      <td>A73</td>\n",
       "      <td>2</td>\n",
       "      <td>A92</td>\n",
       "      <td>A101</td>\n",
       "      <td>...</td>\n",
       "      <td>A121</td>\n",
       "      <td>22</td>\n",
       "      <td>A143</td>\n",
       "      <td>A152</td>\n",
       "      <td>1</td>\n",
       "      <td>A173</td>\n",
       "      <td>1</td>\n",
       "      <td>A191</td>\n",
       "      <td>A201</td>\n",
       "      <td>2</td>\n",
       "    </tr>\n",
       "    <tr>\n",
       "      <th>2</th>\n",
       "      <td>A14</td>\n",
       "      <td>12</td>\n",
       "      <td>A34</td>\n",
       "      <td>A46</td>\n",
       "      <td>2096</td>\n",
       "      <td>A61</td>\n",
       "      <td>A74</td>\n",
       "      <td>2</td>\n",
       "      <td>A93</td>\n",
       "      <td>A101</td>\n",
       "      <td>...</td>\n",
       "      <td>A121</td>\n",
       "      <td>49</td>\n",
       "      <td>A143</td>\n",
       "      <td>A152</td>\n",
       "      <td>1</td>\n",
       "      <td>A172</td>\n",
       "      <td>2</td>\n",
       "      <td>A191</td>\n",
       "      <td>A201</td>\n",
       "      <td>1</td>\n",
       "    </tr>\n",
       "    <tr>\n",
       "      <th>3</th>\n",
       "      <td>A11</td>\n",
       "      <td>42</td>\n",
       "      <td>A32</td>\n",
       "      <td>A42</td>\n",
       "      <td>7882</td>\n",
       "      <td>A61</td>\n",
       "      <td>A74</td>\n",
       "      <td>2</td>\n",
       "      <td>A93</td>\n",
       "      <td>A103</td>\n",
       "      <td>...</td>\n",
       "      <td>A122</td>\n",
       "      <td>45</td>\n",
       "      <td>A143</td>\n",
       "      <td>A153</td>\n",
       "      <td>1</td>\n",
       "      <td>A173</td>\n",
       "      <td>2</td>\n",
       "      <td>A191</td>\n",
       "      <td>A201</td>\n",
       "      <td>1</td>\n",
       "    </tr>\n",
       "    <tr>\n",
       "      <th>4</th>\n",
       "      <td>A11</td>\n",
       "      <td>24</td>\n",
       "      <td>A33</td>\n",
       "      <td>A40</td>\n",
       "      <td>4870</td>\n",
       "      <td>A61</td>\n",
       "      <td>A73</td>\n",
       "      <td>3</td>\n",
       "      <td>A93</td>\n",
       "      <td>A101</td>\n",
       "      <td>...</td>\n",
       "      <td>A124</td>\n",
       "      <td>53</td>\n",
       "      <td>A143</td>\n",
       "      <td>A153</td>\n",
       "      <td>2</td>\n",
       "      <td>A173</td>\n",
       "      <td>2</td>\n",
       "      <td>A191</td>\n",
       "      <td>A201</td>\n",
       "      <td>2</td>\n",
       "    </tr>\n",
       "  </tbody>\n",
       "</table>\n",
       "<p>5 rows × 21 columns</p>\n",
       "</div>"
      ],
      "text/plain": [
       "    0   1    2    3     4    5    6   7    8     9  ...    11  12    13    14  \\\n",
       "0  A11   6  A34  A43  1169  A65  A75   4  A93  A101 ...  A121  67  A143  A152   \n",
       "1  A12  48  A32  A43  5951  A61  A73   2  A92  A101 ...  A121  22  A143  A152   \n",
       "2  A14  12  A34  A46  2096  A61  A74   2  A93  A101 ...  A121  49  A143  A152   \n",
       "3  A11  42  A32  A42  7882  A61  A74   2  A93  A103 ...  A122  45  A143  A153   \n",
       "4  A11  24  A33  A40  4870  A61  A73   3  A93  A101 ...  A124  53  A143  A153   \n",
       "\n",
       "  15    16 17    18    19 20  \n",
       "0  2  A173  1  A192  A201  1  \n",
       "1  1  A173  1  A191  A201  2  \n",
       "2  1  A172  2  A191  A201  1  \n",
       "3  1  A173  2  A191  A201  1  \n",
       "4  2  A173  2  A191  A201  2  \n",
       "\n",
       "[5 rows x 21 columns]"
      ]
     },
     "execution_count": 4,
     "metadata": {},
     "output_type": "execute_result"
    }
   ],
   "source": [
    "german_txt.head()"
   ]
  },
  {
   "cell_type": "code",
   "execution_count": 5,
   "metadata": {
    "scrolled": false
   },
   "outputs": [
    {
     "data": {
      "text/html": [
       "<div>\n",
       "<style scoped>\n",
       "    .dataframe tbody tr th:only-of-type {\n",
       "        vertical-align: middle;\n",
       "    }\n",
       "\n",
       "    .dataframe tbody tr th {\n",
       "        vertical-align: top;\n",
       "    }\n",
       "\n",
       "    .dataframe thead th {\n",
       "        text-align: right;\n",
       "    }\n",
       "</style>\n",
       "<table border=\"1\" class=\"dataframe\">\n",
       "  <thead>\n",
       "    <tr style=\"text-align: right;\">\n",
       "      <th></th>\n",
       "      <th>Check DM</th>\n",
       "      <th>Duration</th>\n",
       "      <th>Credit History</th>\n",
       "      <th>Credit Amount</th>\n",
       "      <th>Saving Account</th>\n",
       "      <th>Employment</th>\n",
       "      <th>Personal Status</th>\n",
       "      <th>Residence</th>\n",
       "      <th>Property</th>\n",
       "      <th>Age</th>\n",
       "      <th>...</th>\n",
       "      <th>New Car</th>\n",
       "      <th>Used Car</th>\n",
       "      <th>No Debtor</th>\n",
       "      <th>Co Debtor</th>\n",
       "      <th>Rent House</th>\n",
       "      <th>Own House</th>\n",
       "      <th>Job1</th>\n",
       "      <th>Job2</th>\n",
       "      <th>Job3</th>\n",
       "      <th>Credit</th>\n",
       "    </tr>\n",
       "  </thead>\n",
       "  <tbody>\n",
       "    <tr>\n",
       "      <th>0</th>\n",
       "      <td>1</td>\n",
       "      <td>6</td>\n",
       "      <td>4</td>\n",
       "      <td>12</td>\n",
       "      <td>5</td>\n",
       "      <td>5</td>\n",
       "      <td>3</td>\n",
       "      <td>4</td>\n",
       "      <td>1</td>\n",
       "      <td>67</td>\n",
       "      <td>...</td>\n",
       "      <td>0</td>\n",
       "      <td>0</td>\n",
       "      <td>1</td>\n",
       "      <td>0</td>\n",
       "      <td>0</td>\n",
       "      <td>1</td>\n",
       "      <td>0</td>\n",
       "      <td>0</td>\n",
       "      <td>1</td>\n",
       "      <td>1</td>\n",
       "    </tr>\n",
       "    <tr>\n",
       "      <th>1</th>\n",
       "      <td>2</td>\n",
       "      <td>48</td>\n",
       "      <td>2</td>\n",
       "      <td>60</td>\n",
       "      <td>1</td>\n",
       "      <td>3</td>\n",
       "      <td>2</td>\n",
       "      <td>2</td>\n",
       "      <td>1</td>\n",
       "      <td>22</td>\n",
       "      <td>...</td>\n",
       "      <td>0</td>\n",
       "      <td>0</td>\n",
       "      <td>1</td>\n",
       "      <td>0</td>\n",
       "      <td>0</td>\n",
       "      <td>1</td>\n",
       "      <td>0</td>\n",
       "      <td>0</td>\n",
       "      <td>1</td>\n",
       "      <td>2</td>\n",
       "    </tr>\n",
       "    <tr>\n",
       "      <th>2</th>\n",
       "      <td>4</td>\n",
       "      <td>12</td>\n",
       "      <td>4</td>\n",
       "      <td>21</td>\n",
       "      <td>1</td>\n",
       "      <td>4</td>\n",
       "      <td>3</td>\n",
       "      <td>3</td>\n",
       "      <td>1</td>\n",
       "      <td>49</td>\n",
       "      <td>...</td>\n",
       "      <td>0</td>\n",
       "      <td>0</td>\n",
       "      <td>1</td>\n",
       "      <td>0</td>\n",
       "      <td>0</td>\n",
       "      <td>1</td>\n",
       "      <td>0</td>\n",
       "      <td>1</td>\n",
       "      <td>0</td>\n",
       "      <td>1</td>\n",
       "    </tr>\n",
       "    <tr>\n",
       "      <th>3</th>\n",
       "      <td>1</td>\n",
       "      <td>42</td>\n",
       "      <td>2</td>\n",
       "      <td>79</td>\n",
       "      <td>1</td>\n",
       "      <td>4</td>\n",
       "      <td>3</td>\n",
       "      <td>4</td>\n",
       "      <td>2</td>\n",
       "      <td>45</td>\n",
       "      <td>...</td>\n",
       "      <td>0</td>\n",
       "      <td>0</td>\n",
       "      <td>0</td>\n",
       "      <td>0</td>\n",
       "      <td>0</td>\n",
       "      <td>0</td>\n",
       "      <td>0</td>\n",
       "      <td>0</td>\n",
       "      <td>1</td>\n",
       "      <td>1</td>\n",
       "    </tr>\n",
       "    <tr>\n",
       "      <th>4</th>\n",
       "      <td>1</td>\n",
       "      <td>24</td>\n",
       "      <td>3</td>\n",
       "      <td>49</td>\n",
       "      <td>1</td>\n",
       "      <td>3</td>\n",
       "      <td>3</td>\n",
       "      <td>4</td>\n",
       "      <td>4</td>\n",
       "      <td>53</td>\n",
       "      <td>...</td>\n",
       "      <td>1</td>\n",
       "      <td>0</td>\n",
       "      <td>1</td>\n",
       "      <td>0</td>\n",
       "      <td>0</td>\n",
       "      <td>0</td>\n",
       "      <td>0</td>\n",
       "      <td>0</td>\n",
       "      <td>1</td>\n",
       "      <td>2</td>\n",
       "    </tr>\n",
       "  </tbody>\n",
       "</table>\n",
       "<p>5 rows × 25 columns</p>\n",
       "</div>"
      ],
      "text/plain": [
       "   Check DM  Duration  Credit History  Credit Amount  Saving Account  \\\n",
       "0         1         6               4             12               5   \n",
       "1         2        48               2             60               1   \n",
       "2         4        12               4             21               1   \n",
       "3         1        42               2             79               1   \n",
       "4         1        24               3             49               1   \n",
       "\n",
       "   Employment  Personal Status  Residence  Property  Age   ...    New Car  \\\n",
       "0           5                3          4         1   67   ...          0   \n",
       "1           3                2          2         1   22   ...          0   \n",
       "2           4                3          3         1   49   ...          0   \n",
       "3           4                3          4         2   45   ...          0   \n",
       "4           3                3          4         4   53   ...          1   \n",
       "\n",
       "   Used Car  No Debtor  Co Debtor  Rent House  Own House  Job1  Job2  Job3  \\\n",
       "0         0          1          0           0          1     0     0     1   \n",
       "1         0          1          0           0          1     0     0     1   \n",
       "2         0          1          0           0          1     0     1     0   \n",
       "3         0          0          0           0          0     0     0     1   \n",
       "4         0          1          0           0          0     0     0     1   \n",
       "\n",
       "   Credit  \n",
       "0       1  \n",
       "1       2  \n",
       "2       1  \n",
       "3       1  \n",
       "4       2  \n",
       "\n",
       "[5 rows x 25 columns]"
      ]
     },
     "execution_count": 5,
     "metadata": {},
     "output_type": "execute_result"
    }
   ],
   "source": [
    "col_names = ['Check DM', 'Duration', 'Credit History', 'Credit Amount',\n",
    "            'Saving Account', 'Employment', 'Personal Status', 'Residence',\n",
    "            'Property', 'Age', 'Other Installment', 'Existing Credit',\n",
    "            'Liable People', 'Telephone', 'Foreign', 'New Car', 'Used Car', 'No Debtor', 'Co Debtor',\n",
    "            'Rent House','Own House', 'Job1', 'Job2', 'Job3', 'Credit']\n",
    "german_num.columns = col_names\n",
    "german_num.head()\n",
    "\n",
    "# 주어진 데이터셋 german.data-numeric 은 실제 모델에 적용시키기 편하게 numeric 데이터로 이루어졌지만,\n",
    "# german.data 와 몇몇 부분에서 차이를 보인다. 1개의 카테고리 어트리뷰트가 2 ~ 3개의 숫자 어트리뷰트로 변하거나\n",
    "# 아예 삭제된 어트리뷰트 또한 존재하였다. 이를 감안하여 numeric 데이터에 컬럼명을 정확하게 붙이는 작업이 이루어졌다."
   ]
  },
  {
   "cell_type": "code",
   "execution_count": null,
   "metadata": {},
   "outputs": [],
   "source": []
  },
  {
   "cell_type": "markdown",
   "metadata": {},
   "source": [
    "## Train - Test data split"
   ]
  },
  {
   "cell_type": "code",
   "execution_count": 6,
   "metadata": {},
   "outputs": [],
   "source": [
    "from sklearn.model_selection import train_test_split"
   ]
  },
  {
   "cell_type": "code",
   "execution_count": 7,
   "metadata": {
    "scrolled": true
   },
   "outputs": [
    {
     "name": "stdout",
     "output_type": "stream",
     "text": [
      "700\n",
      "300\n",
      "700\n",
      "300\n"
     ]
    }
   ],
   "source": [
    "X_all = german_num.drop('Credit', axis = 1)\n",
    "y = german_num['Credit']\n",
    "X_train_all, X_test_all, y_train, y_test = train_test_split(X_all, y, test_size=0.30, random_state=101)\n",
    "\n",
    "print(X_train_all.count()[0])\n",
    "print(X_test_all.count()[0])\n",
    "print(y_train.count())\n",
    "print(y_test.count())"
   ]
  },
  {
   "cell_type": "code",
   "execution_count": null,
   "metadata": {},
   "outputs": [],
   "source": []
  },
  {
   "cell_type": "markdown",
   "metadata": {},
   "source": [
    "## 1. Exploratory Data Analysis"
   ]
  },
  {
   "cell_type": "code",
   "execution_count": 8,
   "metadata": {},
   "outputs": [
    {
     "data": {
      "text/html": [
       "<div>\n",
       "<style scoped>\n",
       "    .dataframe tbody tr th:only-of-type {\n",
       "        vertical-align: middle;\n",
       "    }\n",
       "\n",
       "    .dataframe tbody tr th {\n",
       "        vertical-align: top;\n",
       "    }\n",
       "\n",
       "    .dataframe thead th {\n",
       "        text-align: right;\n",
       "    }\n",
       "</style>\n",
       "<table border=\"1\" class=\"dataframe\">\n",
       "  <thead>\n",
       "    <tr style=\"text-align: right;\">\n",
       "      <th></th>\n",
       "      <th>Check DM</th>\n",
       "      <th>Duration</th>\n",
       "      <th>Credit History</th>\n",
       "      <th>Credit Amount</th>\n",
       "      <th>Saving Account</th>\n",
       "      <th>Employment</th>\n",
       "      <th>Personal Status</th>\n",
       "      <th>Residence</th>\n",
       "      <th>Property</th>\n",
       "      <th>Age</th>\n",
       "      <th>...</th>\n",
       "      <th>New Car</th>\n",
       "      <th>Used Car</th>\n",
       "      <th>No Debtor</th>\n",
       "      <th>Co Debtor</th>\n",
       "      <th>Rent House</th>\n",
       "      <th>Own House</th>\n",
       "      <th>Job1</th>\n",
       "      <th>Job2</th>\n",
       "      <th>Job3</th>\n",
       "      <th>Credit</th>\n",
       "    </tr>\n",
       "  </thead>\n",
       "  <tbody>\n",
       "    <tr>\n",
       "      <th>0</th>\n",
       "      <td>1</td>\n",
       "      <td>6</td>\n",
       "      <td>4</td>\n",
       "      <td>12</td>\n",
       "      <td>5</td>\n",
       "      <td>5</td>\n",
       "      <td>3</td>\n",
       "      <td>4</td>\n",
       "      <td>1</td>\n",
       "      <td>67</td>\n",
       "      <td>...</td>\n",
       "      <td>0</td>\n",
       "      <td>0</td>\n",
       "      <td>1</td>\n",
       "      <td>0</td>\n",
       "      <td>0</td>\n",
       "      <td>1</td>\n",
       "      <td>0</td>\n",
       "      <td>0</td>\n",
       "      <td>1</td>\n",
       "      <td>1</td>\n",
       "    </tr>\n",
       "    <tr>\n",
       "      <th>1</th>\n",
       "      <td>2</td>\n",
       "      <td>48</td>\n",
       "      <td>2</td>\n",
       "      <td>60</td>\n",
       "      <td>1</td>\n",
       "      <td>3</td>\n",
       "      <td>2</td>\n",
       "      <td>2</td>\n",
       "      <td>1</td>\n",
       "      <td>22</td>\n",
       "      <td>...</td>\n",
       "      <td>0</td>\n",
       "      <td>0</td>\n",
       "      <td>1</td>\n",
       "      <td>0</td>\n",
       "      <td>0</td>\n",
       "      <td>1</td>\n",
       "      <td>0</td>\n",
       "      <td>0</td>\n",
       "      <td>1</td>\n",
       "      <td>2</td>\n",
       "    </tr>\n",
       "    <tr>\n",
       "      <th>2</th>\n",
       "      <td>4</td>\n",
       "      <td>12</td>\n",
       "      <td>4</td>\n",
       "      <td>21</td>\n",
       "      <td>1</td>\n",
       "      <td>4</td>\n",
       "      <td>3</td>\n",
       "      <td>3</td>\n",
       "      <td>1</td>\n",
       "      <td>49</td>\n",
       "      <td>...</td>\n",
       "      <td>0</td>\n",
       "      <td>0</td>\n",
       "      <td>1</td>\n",
       "      <td>0</td>\n",
       "      <td>0</td>\n",
       "      <td>1</td>\n",
       "      <td>0</td>\n",
       "      <td>1</td>\n",
       "      <td>0</td>\n",
       "      <td>1</td>\n",
       "    </tr>\n",
       "    <tr>\n",
       "      <th>3</th>\n",
       "      <td>1</td>\n",
       "      <td>42</td>\n",
       "      <td>2</td>\n",
       "      <td>79</td>\n",
       "      <td>1</td>\n",
       "      <td>4</td>\n",
       "      <td>3</td>\n",
       "      <td>4</td>\n",
       "      <td>2</td>\n",
       "      <td>45</td>\n",
       "      <td>...</td>\n",
       "      <td>0</td>\n",
       "      <td>0</td>\n",
       "      <td>0</td>\n",
       "      <td>0</td>\n",
       "      <td>0</td>\n",
       "      <td>0</td>\n",
       "      <td>0</td>\n",
       "      <td>0</td>\n",
       "      <td>1</td>\n",
       "      <td>1</td>\n",
       "    </tr>\n",
       "    <tr>\n",
       "      <th>4</th>\n",
       "      <td>1</td>\n",
       "      <td>24</td>\n",
       "      <td>3</td>\n",
       "      <td>49</td>\n",
       "      <td>1</td>\n",
       "      <td>3</td>\n",
       "      <td>3</td>\n",
       "      <td>4</td>\n",
       "      <td>4</td>\n",
       "      <td>53</td>\n",
       "      <td>...</td>\n",
       "      <td>1</td>\n",
       "      <td>0</td>\n",
       "      <td>1</td>\n",
       "      <td>0</td>\n",
       "      <td>0</td>\n",
       "      <td>0</td>\n",
       "      <td>0</td>\n",
       "      <td>0</td>\n",
       "      <td>1</td>\n",
       "      <td>2</td>\n",
       "    </tr>\n",
       "  </tbody>\n",
       "</table>\n",
       "<p>5 rows × 25 columns</p>\n",
       "</div>"
      ],
      "text/plain": [
       "   Check DM  Duration  Credit History  Credit Amount  Saving Account  \\\n",
       "0         1         6               4             12               5   \n",
       "1         2        48               2             60               1   \n",
       "2         4        12               4             21               1   \n",
       "3         1        42               2             79               1   \n",
       "4         1        24               3             49               1   \n",
       "\n",
       "   Employment  Personal Status  Residence  Property  Age   ...    New Car  \\\n",
       "0           5                3          4         1   67   ...          0   \n",
       "1           3                2          2         1   22   ...          0   \n",
       "2           4                3          3         1   49   ...          0   \n",
       "3           4                3          4         2   45   ...          0   \n",
       "4           3                3          4         4   53   ...          1   \n",
       "\n",
       "   Used Car  No Debtor  Co Debtor  Rent House  Own House  Job1  Job2  Job3  \\\n",
       "0         0          1          0           0          1     0     0     1   \n",
       "1         0          1          0           0          1     0     0     1   \n",
       "2         0          1          0           0          1     0     1     0   \n",
       "3         0          0          0           0          0     0     0     1   \n",
       "4         0          1          0           0          0     0     0     1   \n",
       "\n",
       "   Credit  \n",
       "0       1  \n",
       "1       2  \n",
       "2       1  \n",
       "3       1  \n",
       "4       2  \n",
       "\n",
       "[5 rows x 25 columns]"
      ]
     },
     "execution_count": 8,
     "metadata": {},
     "output_type": "execute_result"
    }
   ],
   "source": [
    "german_num.head()"
   ]
  },
  {
   "cell_type": "code",
   "execution_count": 9,
   "metadata": {},
   "outputs": [
    {
     "data": {
      "text/html": [
       "<div>\n",
       "<style scoped>\n",
       "    .dataframe tbody tr th:only-of-type {\n",
       "        vertical-align: middle;\n",
       "    }\n",
       "\n",
       "    .dataframe tbody tr th {\n",
       "        vertical-align: top;\n",
       "    }\n",
       "\n",
       "    .dataframe thead th {\n",
       "        text-align: right;\n",
       "    }\n",
       "</style>\n",
       "<table border=\"1\" class=\"dataframe\">\n",
       "  <thead>\n",
       "    <tr style=\"text-align: right;\">\n",
       "      <th></th>\n",
       "      <th>Check DM</th>\n",
       "      <th>Duration</th>\n",
       "      <th>Credit History</th>\n",
       "      <th>Credit Amount</th>\n",
       "      <th>Saving Account</th>\n",
       "      <th>Employment</th>\n",
       "      <th>Personal Status</th>\n",
       "      <th>Residence</th>\n",
       "      <th>Property</th>\n",
       "      <th>Age</th>\n",
       "      <th>...</th>\n",
       "      <th>New Car</th>\n",
       "      <th>Used Car</th>\n",
       "      <th>No Debtor</th>\n",
       "      <th>Co Debtor</th>\n",
       "      <th>Rent House</th>\n",
       "      <th>Own House</th>\n",
       "      <th>Job1</th>\n",
       "      <th>Job2</th>\n",
       "      <th>Job3</th>\n",
       "      <th>Credit</th>\n",
       "    </tr>\n",
       "  </thead>\n",
       "  <tbody>\n",
       "    <tr>\n",
       "      <th>count</th>\n",
       "      <td>1000.000000</td>\n",
       "      <td>1000.000000</td>\n",
       "      <td>1000.00000</td>\n",
       "      <td>1000.000000</td>\n",
       "      <td>1000.000000</td>\n",
       "      <td>1000.000000</td>\n",
       "      <td>1000.00000</td>\n",
       "      <td>1000.000000</td>\n",
       "      <td>1000.000000</td>\n",
       "      <td>1000.000000</td>\n",
       "      <td>...</td>\n",
       "      <td>1000.000000</td>\n",
       "      <td>1000.000000</td>\n",
       "      <td>1000.000000</td>\n",
       "      <td>1000.000000</td>\n",
       "      <td>1000.000000</td>\n",
       "      <td>1000.000000</td>\n",
       "      <td>1000.000000</td>\n",
       "      <td>1000.0000</td>\n",
       "      <td>1000.000000</td>\n",
       "      <td>1000.000000</td>\n",
       "    </tr>\n",
       "    <tr>\n",
       "      <th>mean</th>\n",
       "      <td>2.577000</td>\n",
       "      <td>20.903000</td>\n",
       "      <td>2.54500</td>\n",
       "      <td>32.711000</td>\n",
       "      <td>2.105000</td>\n",
       "      <td>3.384000</td>\n",
       "      <td>2.68200</td>\n",
       "      <td>2.845000</td>\n",
       "      <td>2.358000</td>\n",
       "      <td>35.546000</td>\n",
       "      <td>...</td>\n",
       "      <td>0.234000</td>\n",
       "      <td>0.103000</td>\n",
       "      <td>0.907000</td>\n",
       "      <td>0.041000</td>\n",
       "      <td>0.179000</td>\n",
       "      <td>0.713000</td>\n",
       "      <td>0.022000</td>\n",
       "      <td>0.2000</td>\n",
       "      <td>0.630000</td>\n",
       "      <td>1.300000</td>\n",
       "    </tr>\n",
       "    <tr>\n",
       "      <th>std</th>\n",
       "      <td>1.257638</td>\n",
       "      <td>12.058814</td>\n",
       "      <td>1.08312</td>\n",
       "      <td>28.252605</td>\n",
       "      <td>1.580023</td>\n",
       "      <td>1.208306</td>\n",
       "      <td>0.70808</td>\n",
       "      <td>1.103718</td>\n",
       "      <td>1.050209</td>\n",
       "      <td>11.375469</td>\n",
       "      <td>...</td>\n",
       "      <td>0.423584</td>\n",
       "      <td>0.304111</td>\n",
       "      <td>0.290578</td>\n",
       "      <td>0.198389</td>\n",
       "      <td>0.383544</td>\n",
       "      <td>0.452588</td>\n",
       "      <td>0.146757</td>\n",
       "      <td>0.4002</td>\n",
       "      <td>0.483046</td>\n",
       "      <td>0.458487</td>\n",
       "    </tr>\n",
       "    <tr>\n",
       "      <th>min</th>\n",
       "      <td>1.000000</td>\n",
       "      <td>4.000000</td>\n",
       "      <td>0.00000</td>\n",
       "      <td>2.000000</td>\n",
       "      <td>1.000000</td>\n",
       "      <td>1.000000</td>\n",
       "      <td>1.00000</td>\n",
       "      <td>1.000000</td>\n",
       "      <td>1.000000</td>\n",
       "      <td>19.000000</td>\n",
       "      <td>...</td>\n",
       "      <td>0.000000</td>\n",
       "      <td>0.000000</td>\n",
       "      <td>0.000000</td>\n",
       "      <td>0.000000</td>\n",
       "      <td>0.000000</td>\n",
       "      <td>0.000000</td>\n",
       "      <td>0.000000</td>\n",
       "      <td>0.0000</td>\n",
       "      <td>0.000000</td>\n",
       "      <td>1.000000</td>\n",
       "    </tr>\n",
       "    <tr>\n",
       "      <th>25%</th>\n",
       "      <td>1.000000</td>\n",
       "      <td>12.000000</td>\n",
       "      <td>2.00000</td>\n",
       "      <td>14.000000</td>\n",
       "      <td>1.000000</td>\n",
       "      <td>3.000000</td>\n",
       "      <td>2.00000</td>\n",
       "      <td>2.000000</td>\n",
       "      <td>1.000000</td>\n",
       "      <td>27.000000</td>\n",
       "      <td>...</td>\n",
       "      <td>0.000000</td>\n",
       "      <td>0.000000</td>\n",
       "      <td>1.000000</td>\n",
       "      <td>0.000000</td>\n",
       "      <td>0.000000</td>\n",
       "      <td>0.000000</td>\n",
       "      <td>0.000000</td>\n",
       "      <td>0.0000</td>\n",
       "      <td>0.000000</td>\n",
       "      <td>1.000000</td>\n",
       "    </tr>\n",
       "    <tr>\n",
       "      <th>50%</th>\n",
       "      <td>2.000000</td>\n",
       "      <td>18.000000</td>\n",
       "      <td>2.00000</td>\n",
       "      <td>23.000000</td>\n",
       "      <td>1.000000</td>\n",
       "      <td>3.000000</td>\n",
       "      <td>3.00000</td>\n",
       "      <td>3.000000</td>\n",
       "      <td>2.000000</td>\n",
       "      <td>33.000000</td>\n",
       "      <td>...</td>\n",
       "      <td>0.000000</td>\n",
       "      <td>0.000000</td>\n",
       "      <td>1.000000</td>\n",
       "      <td>0.000000</td>\n",
       "      <td>0.000000</td>\n",
       "      <td>1.000000</td>\n",
       "      <td>0.000000</td>\n",
       "      <td>0.0000</td>\n",
       "      <td>1.000000</td>\n",
       "      <td>1.000000</td>\n",
       "    </tr>\n",
       "    <tr>\n",
       "      <th>75%</th>\n",
       "      <td>4.000000</td>\n",
       "      <td>24.000000</td>\n",
       "      <td>4.00000</td>\n",
       "      <td>40.000000</td>\n",
       "      <td>3.000000</td>\n",
       "      <td>5.000000</td>\n",
       "      <td>3.00000</td>\n",
       "      <td>4.000000</td>\n",
       "      <td>3.000000</td>\n",
       "      <td>42.000000</td>\n",
       "      <td>...</td>\n",
       "      <td>0.000000</td>\n",
       "      <td>0.000000</td>\n",
       "      <td>1.000000</td>\n",
       "      <td>0.000000</td>\n",
       "      <td>0.000000</td>\n",
       "      <td>1.000000</td>\n",
       "      <td>0.000000</td>\n",
       "      <td>0.0000</td>\n",
       "      <td>1.000000</td>\n",
       "      <td>2.000000</td>\n",
       "    </tr>\n",
       "    <tr>\n",
       "      <th>max</th>\n",
       "      <td>4.000000</td>\n",
       "      <td>72.000000</td>\n",
       "      <td>4.00000</td>\n",
       "      <td>184.000000</td>\n",
       "      <td>5.000000</td>\n",
       "      <td>5.000000</td>\n",
       "      <td>4.00000</td>\n",
       "      <td>4.000000</td>\n",
       "      <td>4.000000</td>\n",
       "      <td>75.000000</td>\n",
       "      <td>...</td>\n",
       "      <td>1.000000</td>\n",
       "      <td>1.000000</td>\n",
       "      <td>1.000000</td>\n",
       "      <td>1.000000</td>\n",
       "      <td>1.000000</td>\n",
       "      <td>1.000000</td>\n",
       "      <td>1.000000</td>\n",
       "      <td>1.0000</td>\n",
       "      <td>1.000000</td>\n",
       "      <td>2.000000</td>\n",
       "    </tr>\n",
       "  </tbody>\n",
       "</table>\n",
       "<p>8 rows × 25 columns</p>\n",
       "</div>"
      ],
      "text/plain": [
       "          Check DM     Duration  Credit History  Credit Amount  \\\n",
       "count  1000.000000  1000.000000      1000.00000    1000.000000   \n",
       "mean      2.577000    20.903000         2.54500      32.711000   \n",
       "std       1.257638    12.058814         1.08312      28.252605   \n",
       "min       1.000000     4.000000         0.00000       2.000000   \n",
       "25%       1.000000    12.000000         2.00000      14.000000   \n",
       "50%       2.000000    18.000000         2.00000      23.000000   \n",
       "75%       4.000000    24.000000         4.00000      40.000000   \n",
       "max       4.000000    72.000000         4.00000     184.000000   \n",
       "\n",
       "       Saving Account   Employment  Personal Status    Residence     Property  \\\n",
       "count     1000.000000  1000.000000       1000.00000  1000.000000  1000.000000   \n",
       "mean         2.105000     3.384000          2.68200     2.845000     2.358000   \n",
       "std          1.580023     1.208306          0.70808     1.103718     1.050209   \n",
       "min          1.000000     1.000000          1.00000     1.000000     1.000000   \n",
       "25%          1.000000     3.000000          2.00000     2.000000     1.000000   \n",
       "50%          1.000000     3.000000          3.00000     3.000000     2.000000   \n",
       "75%          3.000000     5.000000          3.00000     4.000000     3.000000   \n",
       "max          5.000000     5.000000          4.00000     4.000000     4.000000   \n",
       "\n",
       "               Age     ...           New Car     Used Car    No Debtor  \\\n",
       "count  1000.000000     ...       1000.000000  1000.000000  1000.000000   \n",
       "mean     35.546000     ...          0.234000     0.103000     0.907000   \n",
       "std      11.375469     ...          0.423584     0.304111     0.290578   \n",
       "min      19.000000     ...          0.000000     0.000000     0.000000   \n",
       "25%      27.000000     ...          0.000000     0.000000     1.000000   \n",
       "50%      33.000000     ...          0.000000     0.000000     1.000000   \n",
       "75%      42.000000     ...          0.000000     0.000000     1.000000   \n",
       "max      75.000000     ...          1.000000     1.000000     1.000000   \n",
       "\n",
       "         Co Debtor   Rent House    Own House         Job1       Job2  \\\n",
       "count  1000.000000  1000.000000  1000.000000  1000.000000  1000.0000   \n",
       "mean      0.041000     0.179000     0.713000     0.022000     0.2000   \n",
       "std       0.198389     0.383544     0.452588     0.146757     0.4002   \n",
       "min       0.000000     0.000000     0.000000     0.000000     0.0000   \n",
       "25%       0.000000     0.000000     0.000000     0.000000     0.0000   \n",
       "50%       0.000000     0.000000     1.000000     0.000000     0.0000   \n",
       "75%       0.000000     0.000000     1.000000     0.000000     0.0000   \n",
       "max       1.000000     1.000000     1.000000     1.000000     1.0000   \n",
       "\n",
       "              Job3       Credit  \n",
       "count  1000.000000  1000.000000  \n",
       "mean      0.630000     1.300000  \n",
       "std       0.483046     0.458487  \n",
       "min       0.000000     1.000000  \n",
       "25%       0.000000     1.000000  \n",
       "50%       1.000000     1.000000  \n",
       "75%       1.000000     2.000000  \n",
       "max       1.000000     2.000000  \n",
       "\n",
       "[8 rows x 25 columns]"
      ]
     },
     "execution_count": 9,
     "metadata": {},
     "output_type": "execute_result"
    }
   ],
   "source": [
    "german_num.describe()"
   ]
  },
  {
   "cell_type": "code",
   "execution_count": 10,
   "metadata": {
    "scrolled": true
   },
   "outputs": [
    {
     "name": "stdout",
     "output_type": "stream",
     "text": [
      "<class 'pandas.core.frame.DataFrame'>\n",
      "RangeIndex: 1000 entries, 0 to 999\n",
      "Data columns (total 25 columns):\n",
      "Check DM             1000 non-null int64\n",
      "Duration             1000 non-null int64\n",
      "Credit History       1000 non-null int64\n",
      "Credit Amount        1000 non-null int64\n",
      "Saving Account       1000 non-null int64\n",
      "Employment           1000 non-null int64\n",
      "Personal Status      1000 non-null int64\n",
      "Residence            1000 non-null int64\n",
      "Property             1000 non-null int64\n",
      "Age                  1000 non-null int64\n",
      "Other Installment    1000 non-null int64\n",
      "Existing Credit      1000 non-null int64\n",
      "Liable People        1000 non-null int64\n",
      "Telephone            1000 non-null int64\n",
      "Foreign              1000 non-null int64\n",
      "New Car              1000 non-null int64\n",
      "Used Car             1000 non-null int64\n",
      "No Debtor            1000 non-null int64\n",
      "Co Debtor            1000 non-null int64\n",
      "Rent House           1000 non-null int64\n",
      "Own House            1000 non-null int64\n",
      "Job1                 1000 non-null int64\n",
      "Job2                 1000 non-null int64\n",
      "Job3                 1000 non-null int64\n",
      "Credit               1000 non-null int64\n",
      "dtypes: int64(25)\n",
      "memory usage: 195.4 KB\n"
     ]
    }
   ],
   "source": [
    "german_num.info()"
   ]
  },
  {
   "cell_type": "code",
   "execution_count": null,
   "metadata": {},
   "outputs": [],
   "source": []
  },
  {
   "cell_type": "code",
   "execution_count": 11,
   "metadata": {},
   "outputs": [],
   "source": [
    "# german_num 에 대해서 각각의 데이터 분포와 범위를 head / info / describe 함수를 이용해 확인해 보았다."
   ]
  },
  {
   "cell_type": "code",
   "execution_count": 12,
   "metadata": {},
   "outputs": [
    {
     "data": {
      "image/png": "[encoded data removed]",
      "text/plain": [
       "<Figure size 432x432 with 3 Axes>"
      ]
     },
     "metadata": {},
     "output_type": "display_data"
    }
   ],
   "source": [
    "sns.jointplot(x = 'Check DM', y = 'Credit',kind = 'kde', data = german_num);"
   ]
  },
  {
   "cell_type": "code",
   "execution_count": 13,
   "metadata": {},
   "outputs": [
    {
     "data": {
      "image/png": "[encoded data removed]",
      "text/plain": [
       "<Figure size 432x432 with 3 Axes>"
      ]
     },
     "metadata": {},
     "output_type": "display_data"
    }
   ],
   "source": [
    "sns.jointplot(x = 'Credit Amount', y = 'Credit',kind = 'kde', data = german_num);"
   ]
  },
  {
   "cell_type": "code",
   "execution_count": 71,
   "metadata": {},
   "outputs": [
    {
     "data": {
      "image/png": "[encoded data removed]",
      "text/plain": [
       "<Figure size 432x432 with 3 Axes>"
      ]
     },
     "metadata": {},
     "output_type": "display_data"
    }
   ],
   "source": [
    "sns.jointplot(x = 'Duration', y = 'Credit',kind = 'kde', data = german_num);"
   ]
  },
  {
   "cell_type": "code",
   "execution_count": 14,
   "metadata": {},
   "outputs": [
    {
     "data": {
      "image/png": "[encoded data removed]",
      "text/plain": [
       "<Figure size 432x288 with 1 Axes>"
      ]
     },
     "metadata": {},
     "output_type": "display_data"
    }
   ],
   "source": [
    "sns.barplot(x = 'Foreign', y = 'Credit', data = german_num);"
   ]
  },
  {
   "cell_type": "code",
   "execution_count": 15,
   "metadata": {
    "scrolled": true
   },
   "outputs": [
    {
     "data": {
      "text/plain": [
       "<matplotlib.axes._subplots.AxesSubplot at 0x11b041128>"
      ]
     },
     "execution_count": 15,
     "metadata": {},
     "output_type": "execute_result"
    },
    {
     "data": {
      "image/png": "[encoded data removed]",
      "text/plain": [
       "<Figure size 432x288 with 1 Axes>"
      ]
     },
     "metadata": {},
     "output_type": "display_data"
    }
   ],
   "source": [
    "sns.barplot(x = 'Co Debtor', y = 'Credit', data = german_num)"
   ]
  },
  {
   "cell_type": "code",
   "execution_count": null,
   "metadata": {},
   "outputs": [],
   "source": []
  },
  {
   "cell_type": "code",
   "execution_count": 16,
   "metadata": {},
   "outputs": [],
   "source": [
    "credit_good = german_num[german_num['Credit'] == 1]\n",
    "credit_bad = german_num[german_num['Credit'] == 2]"
   ]
  },
  {
   "cell_type": "code",
   "execution_count": 60,
   "metadata": {},
   "outputs": [],
   "source": [
    "check_good_bad = pd.DataFrame(data = {'Good':credit_good.describe().loc['mean'], 'Bad':credit_bad.describe().loc['mean'], 'Result':(credit_good.describe().loc['mean'] - credit_bad.describe().loc['mean'])/german_num.describe().loc['mean']})"
   ]
  },
  {
   "cell_type": "code",
   "execution_count": 69,
   "metadata": {},
   "outputs": [
    {
     "data": {
      "text/html": [
       "<div>\n",
       "<style scoped>\n",
       "    .dataframe tbody tr th:only-of-type {\n",
       "        vertical-align: middle;\n",
       "    }\n",
       "\n",
       "    .dataframe tbody tr th {\n",
       "        vertical-align: top;\n",
       "    }\n",
       "\n",
       "    .dataframe thead th {\n",
       "        text-align: right;\n",
       "    }\n",
       "</style>\n",
       "<table border=\"1\" class=\"dataframe\">\n",
       "  <thead>\n",
       "    <tr style=\"text-align: right;\">\n",
       "      <th></th>\n",
       "      <th>Good</th>\n",
       "      <th>Bad</th>\n",
       "      <th>Result</th>\n",
       "    </tr>\n",
       "  </thead>\n",
       "  <tbody>\n",
       "    <tr>\n",
       "      <th>Credit</th>\n",
       "      <td>1.000000</td>\n",
       "      <td>2.000000</td>\n",
       "      <td>-0.769231</td>\n",
       "    </tr>\n",
       "    <tr>\n",
       "      <th>Co Debtor</th>\n",
       "      <td>0.032857</td>\n",
       "      <td>0.060000</td>\n",
       "      <td>-0.662021</td>\n",
       "    </tr>\n",
       "    <tr>\n",
       "      <th>Rent House</th>\n",
       "      <td>0.155714</td>\n",
       "      <td>0.233333</td>\n",
       "      <td>-0.433626</td>\n",
       "    </tr>\n",
       "    <tr>\n",
       "      <th>New Car</th>\n",
       "      <td>0.207143</td>\n",
       "      <td>0.296667</td>\n",
       "      <td>-0.382580</td>\n",
       "    </tr>\n",
       "    <tr>\n",
       "      <th>Credit Amount</th>\n",
       "      <td>29.862857</td>\n",
       "      <td>39.356667</td>\n",
       "      <td>-0.290233</td>\n",
       "    </tr>\n",
       "    <tr>\n",
       "      <th>Duration</th>\n",
       "      <td>19.207143</td>\n",
       "      <td>24.860000</td>\n",
       "      <td>-0.270433</td>\n",
       "    </tr>\n",
       "  </tbody>\n",
       "</table>\n",
       "</div>"
      ],
      "text/plain": [
       "                    Good        Bad    Result\n",
       "Credit          1.000000   2.000000 -0.769231\n",
       "Co Debtor       0.032857   0.060000 -0.662021\n",
       "Rent House      0.155714   0.233333 -0.433626\n",
       "New Car         0.207143   0.296667 -0.382580\n",
       "Credit Amount  29.862857  39.356667 -0.290233\n",
       "Duration       19.207143  24.860000 -0.270433"
      ]
     },
     "execution_count": 69,
     "metadata": {},
     "output_type": "execute_result"
    }
   ],
   "source": [
    "check_good_bad.sort_values('Result').head(6)"
   ]
  },
  {
   "cell_type": "code",
   "execution_count": 68,
   "metadata": {},
   "outputs": [
    {
     "data": {
      "text/html": [
       "<div>\n",
       "<style scoped>\n",
       "    .dataframe tbody tr th:only-of-type {\n",
       "        vertical-align: middle;\n",
       "    }\n",
       "\n",
       "    .dataframe tbody tr th {\n",
       "        vertical-align: top;\n",
       "    }\n",
       "\n",
       "    .dataframe thead th {\n",
       "        text-align: right;\n",
       "    }\n",
       "</style>\n",
       "<table border=\"1\" class=\"dataframe\">\n",
       "  <thead>\n",
       "    <tr style=\"text-align: right;\">\n",
       "      <th></th>\n",
       "      <th>Good</th>\n",
       "      <th>Bad</th>\n",
       "      <th>Result</th>\n",
       "    </tr>\n",
       "  </thead>\n",
       "  <tbody>\n",
       "    <tr>\n",
       "      <th>Used Car</th>\n",
       "      <td>0.122857</td>\n",
       "      <td>0.056667</td>\n",
       "      <td>0.642626</td>\n",
       "    </tr>\n",
       "    <tr>\n",
       "      <th>Check DM</th>\n",
       "      <td>2.865714</td>\n",
       "      <td>1.903333</td>\n",
       "      <td>0.373450</td>\n",
       "    </tr>\n",
       "    <tr>\n",
       "      <th>Saving Account</th>\n",
       "      <td>2.290000</td>\n",
       "      <td>1.673333</td>\n",
       "      <td>0.292953</td>\n",
       "    </tr>\n",
       "    <tr>\n",
       "      <th>Credit History</th>\n",
       "      <td>2.707143</td>\n",
       "      <td>2.166667</td>\n",
       "      <td>0.212368</td>\n",
       "    </tr>\n",
       "    <tr>\n",
       "      <th>Own House</th>\n",
       "      <td>0.752857</td>\n",
       "      <td>0.620000</td>\n",
       "      <td>0.186335</td>\n",
       "    </tr>\n",
       "  </tbody>\n",
       "</table>\n",
       "</div>"
      ],
      "text/plain": [
       "                    Good       Bad    Result\n",
       "Used Car        0.122857  0.056667  0.642626\n",
       "Check DM        2.865714  1.903333  0.373450\n",
       "Saving Account  2.290000  1.673333  0.292953\n",
       "Credit History  2.707143  2.166667  0.212368\n",
       "Own House       0.752857  0.620000  0.186335"
      ]
     },
     "execution_count": 68,
     "metadata": {},
     "output_type": "execute_result"
    }
   ],
   "source": [
    "check_good_bad.sort_values('Result', ascending = False).head()"
   ]
  },
  {
   "cell_type": "code",
   "execution_count": null,
   "metadata": {},
   "outputs": [],
   "source": []
  },
  {
   "cell_type": "markdown",
   "metadata": {},
   "source": [
    "## Logistic Regression"
   ]
  },
  {
   "cell_type": "code",
   "execution_count": 17,
   "metadata": {},
   "outputs": [],
   "source": [
    "from sklearn.linear_model import LogisticRegression\n",
    "from sklearn.metrics import classification_report, confusion_matrix"
   ]
  },
  {
   "cell_type": "code",
   "execution_count": 18,
   "metadata": {},
   "outputs": [],
   "source": [
    "logistic_model = LogisticRegression()\n",
    "logistic_model.fit(X_train_all, y_train)\n",
    "logistic_prediction = logistic_model.predict(X_test_all)"
   ]
  },
  {
   "cell_type": "code",
   "execution_count": 19,
   "metadata": {
    "scrolled": true
   },
   "outputs": [
    {
     "name": "stdout",
     "output_type": "stream",
     "text": [
      "             precision    recall  f1-score   support\n",
      "\n",
      "          1       0.77      0.91      0.83       204\n",
      "          2       0.68      0.42      0.52        96\n",
      "\n",
      "avg / total       0.74      0.75      0.73       300\n",
      "\n",
      "[[185  19]\n",
      " [ 56  40]]\n",
      "0.996666666667\n"
     ]
    }
   ],
   "source": [
    "print(classification_report(y_test, logistic_prediction))\n",
    "print(confusion_matrix(y_test, logistic_prediction))\n",
    "print((confusion_matrix(y_test, logistic_prediction)[1][0] * 5\n",
    " + confusion_matrix(y_test, logistic_prediction)[0][1]) / len(y_test))"
   ]
  },
  {
   "cell_type": "code",
   "execution_count": 179,
   "metadata": {},
   "outputs": [
    {
     "data": {
      "text/plain": [
       "34"
      ]
     },
     "execution_count": 179,
     "metadata": {},
     "output_type": "execute_result"
    }
   ],
   "source": [
    "logistic_weight = []\n",
    "for i in np.arange(0, 0.5, 0.005):\n",
    "    logistic_model = LogisticRegression(class_weight={1:i})\n",
    "    logistic_model.fit(X_train_all, y_train)\n",
    "    logistic_prediction = logistic_model.predict(X_test_all)\n",
    "    logistic_weight.append((confusion_matrix(y_test, logistic_prediction)[1][0] * 5\n",
    " + confusion_matrix(y_test, logistic_prediction)[0][1]) / len(y_test))\n",
    "logistic_weight.index(min(logistic_weight))\n"
   ]
  },
  {
   "cell_type": "code",
   "execution_count": 184,
   "metadata": {},
   "outputs": [
    {
     "data": {
      "text/plain": [
       "[<matplotlib.lines.Line2D at 0x1a21632358>]"
      ]
     },
     "execution_count": 184,
     "metadata": {},
     "output_type": "execute_result"
    },
    {
     "data": {
      "image/png": "[encoded data removed]",
      "text/plain": [
       "<Figure size 720x360 with 1 Axes>"
      ]
     },
     "metadata": {},
     "output_type": "display_data"
    }
   ],
   "source": [
    "plt.figure(figsize = (10, 5))\n",
    "plt.plot(np.arange(0, 0.5, 0.005), logistic_weight, marker = 'o', markerfacecolor = 'red')"
   ]
  },
  {
   "cell_type": "code",
   "execution_count": 185,
   "metadata": {},
   "outputs": [
    {
     "data": {
      "text/plain": [
       "0.5"
      ]
     },
     "execution_count": 185,
     "metadata": {},
     "output_type": "execute_result"
    }
   ],
   "source": [
    "min(logistic_weight)"
   ]
  },
  {
   "cell_type": "code",
   "execution_count": 181,
   "metadata": {},
   "outputs": [
    {
     "data": {
      "text/plain": [
       "0.17"
      ]
     },
     "execution_count": 181,
     "metadata": {},
     "output_type": "execute_result"
    }
   ],
   "source": [
    "34 * 0.005"
   ]
  },
  {
   "cell_type": "code",
   "execution_count": 190,
   "metadata": {
    "scrolled": true
   },
   "outputs": [
    {
     "name": "stdout",
     "output_type": "stream",
     "text": [
      "             precision    recall  f1-score   support\n",
      "\n",
      "          1       0.92      0.46      0.61       204\n",
      "          2       0.44      0.92      0.60        96\n",
      "\n",
      "avg / total       0.77      0.61      0.61       300\n",
      "\n",
      "[[ 94 110]\n",
      " [  8  88]]\n",
      "0.5\n"
     ]
    }
   ],
   "source": [
    "logistic_model = LogisticRegression(class_weight={1:0.17})\n",
    "logistic_model.fit(X_train_all, y_train)\n",
    "logistic_prediction = logistic_model.predict(X_test_all)\n",
    "print(classification_report(y_test, logistic_prediction))\n",
    "print(confusion_matrix(y_test, logistic_prediction))\n",
    "print((confusion_matrix(y_test, logistic_prediction)[1][0] * 5\n",
    " + confusion_matrix(y_test, logistic_prediction)[0][1]) / len(y_test))"
   ]
  },
  {
   "cell_type": "code",
   "execution_count": 202,
   "metadata": {},
   "outputs": [
    {
     "data": {
      "text/plain": [
       "array([[ -5.52135772e-01,   4.06548985e-02,  -3.21207859e-01,\n",
       "          2.81516455e-03,  -1.66774253e-01,  -5.18647205e-02,\n",
       "         -1.15650903e-01,   7.07428090e-02,   2.23308240e-01,\n",
       "         -7.04475843e-03,  -1.59294320e-01,   2.23764635e-01,\n",
       "         -6.82213040e-03,  -7.29336860e-02,   6.85130552e-04,\n",
       "          4.66652593e-01,  -1.01820073e+00,   8.76967868e-01,\n",
       "          6.38945435e-01,   6.39310231e-01,   2.62443948e-01,\n",
       "         -1.93921193e-01,   9.65259438e-02,  -5.93565348e-02]])"
      ]
     },
     "execution_count": 202,
     "metadata": {},
     "output_type": "execute_result"
    }
   ],
   "source": [
    "logistic_model.coef_"
   ]
  },
  {
   "cell_type": "code",
   "execution_count": 108,
   "metadata": {
    "scrolled": false
   },
   "outputs": [
    {
     "data": {
      "text/html": [
       "<div>\n",
       "<style scoped>\n",
       "    .dataframe tbody tr th:only-of-type {\n",
       "        vertical-align: middle;\n",
       "    }\n",
       "\n",
       "    .dataframe tbody tr th {\n",
       "        vertical-align: top;\n",
       "    }\n",
       "\n",
       "    .dataframe thead th {\n",
       "        text-align: right;\n",
       "    }\n",
       "</style>\n",
       "<table border=\"1\" class=\"dataframe\">\n",
       "  <thead>\n",
       "    <tr style=\"text-align: right;\">\n",
       "      <th></th>\n",
       "      <th>Good Pred</th>\n",
       "      <th>Bad Pred</th>\n",
       "    </tr>\n",
       "  </thead>\n",
       "  <tbody>\n",
       "    <tr>\n",
       "      <th>Good</th>\n",
       "      <td>185</td>\n",
       "      <td>19</td>\n",
       "    </tr>\n",
       "    <tr>\n",
       "      <th>Bad</th>\n",
       "      <td>56</td>\n",
       "      <td>40</td>\n",
       "    </tr>\n",
       "  </tbody>\n",
       "</table>\n",
       "</div>"
      ],
      "text/plain": [
       "      Good Pred  Bad Pred\n",
       "Good        185        19\n",
       "Bad          56        40"
      ]
     },
     "execution_count": 108,
     "metadata": {},
     "output_type": "execute_result"
    }
   ],
   "source": [
    "pd.DataFrame({'Good Pred':[185, 56], 'Bad Pred':[19, 40]}, index= ['Good', 'Bad'])"
   ]
  },
  {
   "cell_type": "code",
   "execution_count": null,
   "metadata": {},
   "outputs": [],
   "source": []
  },
  {
   "cell_type": "code",
   "execution_count": 117,
   "metadata": {},
   "outputs": [
    {
     "ename": "ValueError",
     "evalue": "Unable to coerce to Series, length must be 25: given 1",
     "output_type": "error",
     "traceback": [
      "\u001b[0;31m---------------------------------------------------------------------------\u001b[0m",
      "\u001b[0;31mValueError\u001b[0m                                Traceback (most recent call last)",
      "\u001b[0;32m<ipython-input-117-7f8eba264f62>\u001b[0m in \u001b[0;36m<module>\u001b[0;34m()\u001b[0m\n\u001b[1;32m     10\u001b[0m \u001b[0;34m\u001b[0m\u001b[0m\n\u001b[1;32m     11\u001b[0m \u001b[0mX\u001b[0m \u001b[0;34m=\u001b[0m \u001b[0mcredit_good\u001b[0m\u001b[0;34m.\u001b[0m\u001b[0mdrop\u001b[0m\u001b[0;34m(\u001b[0m\u001b[0;34m'Credit'\u001b[0m\u001b[0;34m,\u001b[0m \u001b[0maxis\u001b[0m \u001b[0;34m=\u001b[0m \u001b[0;36m1\u001b[0m\u001b[0;34m)\u001b[0m\u001b[0;34m\u001b[0m\u001b[0m\n\u001b[0;32m---> 12\u001b[0;31m \u001b[0my\u001b[0m \u001b[0;34m=\u001b[0m \u001b[0;34m[\u001b[0m\u001b[0;36m0\u001b[0m\u001b[0;34m]\u001b[0m \u001b[0;34m*\u001b[0m \u001b[0mcredit_good\u001b[0m\u001b[0;34m[\u001b[0m\u001b[0mcredit_good\u001b[0m\u001b[0;34m[\u001b[0m\u001b[0;34m'Credit'\u001b[0m\u001b[0;34m]\u001b[0m \u001b[0;34m==\u001b[0m \u001b[0;36m1\u001b[0m\u001b[0;34m]\u001b[0m \u001b[0;34m+\u001b[0m \u001b[0;34m[\u001b[0m\u001b[0;36m1\u001b[0m\u001b[0;34m]\u001b[0m \u001b[0;34m*\u001b[0m \u001b[0mcredit_good\u001b[0m\u001b[0;34m[\u001b[0m\u001b[0mcredit_good\u001b[0m\u001b[0;34m[\u001b[0m\u001b[0;34m'Credit'\u001b[0m\u001b[0;34m]\u001b[0m \u001b[0;34m==\u001b[0m \u001b[0;36m2\u001b[0m\u001b[0;34m]\u001b[0m\u001b[0;34m\u001b[0m\u001b[0m\n\u001b[0m\u001b[1;32m     13\u001b[0m \u001b[0;34m\u001b[0m\u001b[0m\n\u001b[1;32m     14\u001b[0m \u001b[0;31m# fit the model and get the separating hyperplane\u001b[0m\u001b[0;34m\u001b[0m\u001b[0;34m\u001b[0m\u001b[0m\n",
      "\u001b[0;32m~/y36/lib/python3.6/site-packages/pandas/core/ops.py\u001b[0m in \u001b[0;36mf\u001b[0;34m(self, other, axis, level, fill_value)\u001b[0m\n\u001b[1;32m   1515\u001b[0m     \u001b[0;32mdef\u001b[0m \u001b[0mf\u001b[0m\u001b[0;34m(\u001b[0m\u001b[0mself\u001b[0m\u001b[0;34m,\u001b[0m \u001b[0mother\u001b[0m\u001b[0;34m,\u001b[0m \u001b[0maxis\u001b[0m\u001b[0;34m=\u001b[0m\u001b[0mdefault_axis\u001b[0m\u001b[0;34m,\u001b[0m \u001b[0mlevel\u001b[0m\u001b[0;34m=\u001b[0m\u001b[0;32mNone\u001b[0m\u001b[0;34m,\u001b[0m \u001b[0mfill_value\u001b[0m\u001b[0;34m=\u001b[0m\u001b[0;32mNone\u001b[0m\u001b[0;34m)\u001b[0m\u001b[0;34m:\u001b[0m\u001b[0;34m\u001b[0m\u001b[0m\n\u001b[1;32m   1516\u001b[0m \u001b[0;34m\u001b[0m\u001b[0m\n\u001b[0;32m-> 1517\u001b[0;31m         \u001b[0mother\u001b[0m \u001b[0;34m=\u001b[0m \u001b[0m_align_method_FRAME\u001b[0m\u001b[0;34m(\u001b[0m\u001b[0mself\u001b[0m\u001b[0;34m,\u001b[0m \u001b[0mother\u001b[0m\u001b[0;34m,\u001b[0m \u001b[0maxis\u001b[0m\u001b[0;34m)\u001b[0m\u001b[0;34m\u001b[0m\u001b[0m\n\u001b[0m\u001b[1;32m   1518\u001b[0m \u001b[0;34m\u001b[0m\u001b[0m\n\u001b[1;32m   1519\u001b[0m         \u001b[0;32mif\u001b[0m \u001b[0misinstance\u001b[0m\u001b[0;34m(\u001b[0m\u001b[0mother\u001b[0m\u001b[0;34m,\u001b[0m \u001b[0mABCDataFrame\u001b[0m\u001b[0;34m)\u001b[0m\u001b[0;34m:\u001b[0m  \u001b[0;31m# Another DataFrame\u001b[0m\u001b[0;34m\u001b[0m\u001b[0m\n",
      "\u001b[0;32m~/y36/lib/python3.6/site-packages/pandas/core/ops.py\u001b[0m in \u001b[0;36m_align_method_FRAME\u001b[0;34m(left, right, axis)\u001b[0m\n\u001b[1;32m   1449\u001b[0m           not isinstance(right, (ABCSeries, ABCDataFrame))):\n\u001b[1;32m   1450\u001b[0m         \u001b[0;31m# GH17901\u001b[0m\u001b[0;34m\u001b[0m\u001b[0;34m\u001b[0m\u001b[0m\n\u001b[0;32m-> 1451\u001b[0;31m         \u001b[0mright\u001b[0m \u001b[0;34m=\u001b[0m \u001b[0mto_series\u001b[0m\u001b[0;34m(\u001b[0m\u001b[0mright\u001b[0m\u001b[0;34m)\u001b[0m\u001b[0;34m\u001b[0m\u001b[0m\n\u001b[0m\u001b[1;32m   1452\u001b[0m \u001b[0;34m\u001b[0m\u001b[0m\n\u001b[1;32m   1453\u001b[0m     \u001b[0;32mreturn\u001b[0m \u001b[0mright\u001b[0m\u001b[0;34m\u001b[0m\u001b[0m\n",
      "\u001b[0;32m~/y36/lib/python3.6/site-packages/pandas/core/ops.py\u001b[0m in \u001b[0;36mto_series\u001b[0;34m(right)\u001b[0m\n\u001b[1;32m   1424\u001b[0m             \u001b[0;32mif\u001b[0m \u001b[0mlen\u001b[0m\u001b[0;34m(\u001b[0m\u001b[0mleft\u001b[0m\u001b[0;34m.\u001b[0m\u001b[0mcolumns\u001b[0m\u001b[0;34m)\u001b[0m \u001b[0;34m!=\u001b[0m \u001b[0mlen\u001b[0m\u001b[0;34m(\u001b[0m\u001b[0mright\u001b[0m\u001b[0;34m)\u001b[0m\u001b[0;34m:\u001b[0m\u001b[0;34m\u001b[0m\u001b[0m\n\u001b[1;32m   1425\u001b[0m                 raise ValueError(msg.format(req_len=len(left.columns),\n\u001b[0;32m-> 1426\u001b[0;31m                                             given_len=len(right)))\n\u001b[0m\u001b[1;32m   1427\u001b[0m             \u001b[0mright\u001b[0m \u001b[0;34m=\u001b[0m \u001b[0mleft\u001b[0m\u001b[0;34m.\u001b[0m\u001b[0m_constructor_sliced\u001b[0m\u001b[0;34m(\u001b[0m\u001b[0mright\u001b[0m\u001b[0;34m,\u001b[0m \u001b[0mindex\u001b[0m\u001b[0;34m=\u001b[0m\u001b[0mleft\u001b[0m\u001b[0;34m.\u001b[0m\u001b[0mcolumns\u001b[0m\u001b[0;34m)\u001b[0m\u001b[0;34m\u001b[0m\u001b[0m\n\u001b[1;32m   1428\u001b[0m         \u001b[0;32mreturn\u001b[0m \u001b[0mright\u001b[0m\u001b[0;34m\u001b[0m\u001b[0m\n",
      "\u001b[0;31mValueError\u001b[0m: Unable to coerce to Series, length must be 25: given 1"
     ]
    }
   ],
   "source": [
    "from sklearn import svm\n",
    "\n",
    "# we create clusters with 1000 and 100 points\n",
    "rng = np.random.RandomState(0)\n",
    "n_samples_1 = 1000\n",
    "n_samples_2 = 100\n",
    "X = np.r_[1.5 * rng.randn(n_samples_1, 2),\n",
    "          0.5 * rng.randn(n_samples_2, 2) + [2, 2]]\n",
    "y = [0] * (n_samples_1) + [1] * (n_samples_2)\n",
    "\n",
    "X = credit_good.drop('', axis = 1)\n",
    "y = [0] * credit_good['Credit'] + [1] * credit_bad['Credit']\n",
    "\n",
    "# fit the model and get the separating hyperplane\n",
    "clf = svm.SVC(kernel='linear', C=1.0)\n",
    "clf.fit(X, y)\n",
    "\n",
    "# fit the model and get the separating hyperplane using weighted classes\n",
    "wclf = svm.SVC(kernel='linear', class_weight={1: 5})\n",
    "wclf.fit(X, y)\n",
    "\n",
    "# plot separating hyperplanes and samples\n",
    "plt.scatter(X[:, 0], X[:, 1], c=y, cmap=plt.cm.Paired, edgecolors='k')\n",
    "\n",
    "# plot the decision functions for both classifiers\n",
    "ax = plt.gca()\n",
    "xlim = ax.get_xlim()\n",
    "ylim = ax.get_ylim()\n",
    "\n",
    "# create grid to evaluate model\n",
    "xx = np.linspace(xlim[0], xlim[1], 30)\n",
    "yy = np.linspace(ylim[0], ylim[1], 30)\n",
    "YY, XX = np.meshgrid(yy, xx)\n",
    "xy = np.vstack([XX.ravel(), YY.ravel()]).T\n",
    "\n",
    "# get the separating hyperplane\n",
    "Z = clf.decision_function(xy).reshape(XX.shape)\n",
    "\n",
    "# plot decision boundary and margins\n",
    "a = ax.contour(XX, YY, Z, colors='k', levels=[0], alpha=0.5, linestyles=['-'])\n",
    "\n",
    "# get the separating hyperplane for weighted classes\n",
    "Z = wclf.decision_function(xy).reshape(XX.shape)\n",
    "\n",
    "# plot decision boundary and margins for weighted classes\n",
    "b = ax.contour(XX, YY, Z, colors='r', levels=[0], alpha=0.5, linestyles=['-'])\n",
    "\n",
    "plt.legend([a.collections[0], b.collections[0]], [\"non weighted\", \"weighted\"],\n",
    "           loc=\"upper right\")\n",
    "plt.show()"
   ]
  },
  {
   "cell_type": "code",
   "execution_count": null,
   "metadata": {},
   "outputs": [],
   "source": []
  },
  {
   "cell_type": "code",
   "execution_count": 79,
   "metadata": {},
   "outputs": [],
   "source": [
    "logistic_model_all = LogisticRegression()\n",
    "logistic_model_all.fit(my_X, my_y)\n",
    "logistic_prediction_all = logistic_model_all.predict(my_X)"
   ]
  },
  {
   "cell_type": "code",
   "execution_count": 87,
   "metadata": {
    "scrolled": true
   },
   "outputs": [
    {
     "name": "stdout",
     "output_type": "stream",
     "text": [
      "             precision    recall  f1-score   support\n",
      "\n",
      "          1       0.81      0.90      0.85       700\n",
      "          2       0.68      0.49      0.57       300\n",
      "\n",
      "avg / total       0.77      0.78      0.77      1000\n",
      "\n",
      "     0    1\n",
      "0  632   68\n",
      "1  153  147\n",
      "\n",
      "0.833\n"
     ]
    }
   ],
   "source": [
    "print(classification_report(my_y, logistic_prediction_all))\n",
    "print(pd.DataFrame(confusion_matrix(my_y, logistic_prediction_all)))\n",
    "print()\n",
    "print((confusion_matrix(my_y, logistic_prediction_all)[1][0] * 5\n",
    " + confusion_matrix(my_y, logistic_prediction_all)[0][1]) / len(my_y))"
   ]
  },
  {
   "cell_type": "code",
   "execution_count": null,
   "metadata": {},
   "outputs": [],
   "source": []
  },
  {
   "cell_type": "code",
   "execution_count": 76,
   "metadata": {},
   "outputs": [],
   "source": [
    "my_X = german_num.drop('Credit', axis = 1)\n",
    "my_y = german_num['Credit']"
   ]
  },
  {
   "cell_type": "code",
   "execution_count": 77,
   "metadata": {},
   "outputs": [
    {
     "name": "stdout",
     "output_type": "stream",
     "text": [
      "[ True False False False False False False False False False False False\n",
      " False False  True False  True  True  True False False False False False]\n",
      "[ 1 15  3 20  7 11 10 18  5 19  6  9 12 13  1  2  1  1  1  4 14  8 17 16]\n"
     ]
    }
   ],
   "source": [
    "from sklearn.feature_selection import RFE\n",
    "\n",
    "rfe_model = RFE(logistic_model, 5)\n",
    "rfe_model.fit(my_X, my_y)\n",
    "print(rfe_model.support_)\n",
    "print(rfe_model.ranking_)"
   ]
  },
  {
   "cell_type": "code",
   "execution_count": 78,
   "metadata": {},
   "outputs": [
    {
     "data": {
      "text/plain": [
       "['Check DM', 'Foreign', 'Used Car', 'No Debtor', 'Co Debtor']"
      ]
     },
     "execution_count": 78,
     "metadata": {},
     "output_type": "execute_result"
    }
   ],
   "source": [
    "rfe_list = list(rfe_model.support_)\n",
    "indices = [i for i, x in enumerate(rfe_list) if x]\n",
    "result_list = []\n",
    "for i in indices:\n",
    "    result_list.append(my_X.columns[i])\n",
    "result_list"
   ]
  },
  {
   "cell_type": "code",
   "execution_count": 90,
   "metadata": {},
   "outputs": [],
   "source": [
    "X_select = german_num[['Check DM','Used Car', 'Co Debtor']]\n",
    "X_train_select, X_test_select, y_train, y_test = train_test_split(X_select, y, test_size=0.30, random_state=101)"
   ]
  },
  {
   "cell_type": "code",
   "execution_count": 91,
   "metadata": {},
   "outputs": [],
   "source": [
    "logistic_model_sel = LogisticRegression()\n",
    "logistic_model_sel.fit(X_select, my_y)\n",
    "logistic_prediction_sel = logistic_model_sel.predict(X_select)"
   ]
  },
  {
   "cell_type": "code",
   "execution_count": 92,
   "metadata": {},
   "outputs": [
    {
     "name": "stdout",
     "output_type": "stream",
     "text": [
      "             precision    recall  f1-score   support\n",
      "\n",
      "          1       0.77      0.83      0.80       700\n",
      "          2       0.51      0.42      0.46       300\n",
      "\n",
      "avg / total       0.69      0.70      0.70      1000\n",
      "\n",
      "[[578 122]\n",
      " [174 126]]\n",
      "0.992\n"
     ]
    }
   ],
   "source": [
    "print(classification_report(my_y, logistic_prediction_sel))\n",
    "print(confusion_matrix(my_y, logistic_prediction_sel))\n",
    "print((confusion_matrix(my_y, logistic_prediction_sel)[1][0] * 5\n",
    " + confusion_matrix(my_y, logistic_prediction_sel)[0][1]) / len(my_y))"
   ]
  },
  {
   "cell_type": "code",
   "execution_count": null,
   "metadata": {},
   "outputs": [],
   "source": []
  },
  {
   "cell_type": "markdown",
   "metadata": {},
   "source": [
    "## 3-1. KNN"
   ]
  },
  {
   "cell_type": "code",
   "execution_count": 25,
   "metadata": {},
   "outputs": [],
   "source": [
    "from sklearn.neighbors import KNeighborsClassifier"
   ]
  },
  {
   "cell_type": "code",
   "execution_count": 26,
   "metadata": {},
   "outputs": [],
   "source": [
    "knn_model = KNeighborsClassifier(n_neighbors=1)\n",
    "knn_model.fit(X_train_all, y_train)\n",
    "knn_prediction = knn_model.predict(X_test_all)"
   ]
  },
  {
   "cell_type": "code",
   "execution_count": 27,
   "metadata": {
    "scrolled": true
   },
   "outputs": [
    {
     "name": "stdout",
     "output_type": "stream",
     "text": [
      "             precision    recall  f1-score   support\n",
      "\n",
      "          1       0.72      0.75      0.73       204\n",
      "          2       0.41      0.38      0.39        96\n",
      "\n",
      "avg / total       0.62      0.63      0.62       300\n",
      "\n",
      "[[152  52]\n",
      " [ 60  36]]\n",
      "1.17333333333\n"
     ]
    }
   ],
   "source": [
    "print(classification_report(y_test, knn_prediction))\n",
    "print(confusion_matrix(y_test, knn_prediction))\n",
    "print((confusion_matrix(y_test, knn_prediction)[1][0] * 5\n",
    " + confusion_matrix(y_test, knn_prediction)[0][1]) / len(y_test))"
   ]
  },
  {
   "cell_type": "code",
   "execution_count": null,
   "metadata": {},
   "outputs": [],
   "source": []
  },
  {
   "cell_type": "markdown",
   "metadata": {},
   "source": [
    "## 3-1. Upgraded KNN"
   ]
  },
  {
   "cell_type": "code",
   "execution_count": 28,
   "metadata": {},
   "outputs": [],
   "source": [
    "knn_error_rate = []\n",
    "\n",
    "for i in range(1, 50):\n",
    "    knn_upgraded_model = KNeighborsClassifier(n_neighbors=i)\n",
    "    knn_upgraded_model.fit(X_train_all, y_train)\n",
    "    i_knn_model = knn_upgraded_model.predict(X_test_all)\n",
    "    knn_error_rate.append(np.mean(i_knn_model != y_test))"
   ]
  },
  {
   "cell_type": "code",
   "execution_count": 29,
   "metadata": {},
   "outputs": [
    {
     "data": {
      "text/plain": [
       "Text(0,0.5,'Error Rate')"
      ]
     },
     "execution_count": 29,
     "metadata": {},
     "output_type": "execute_result"
    },
    {
     "data": {
      "image/png": "[encoded data removed]",
      "text/plain": [
       "<Figure size 720x360 with 1 Axes>"
      ]
     },
     "metadata": {},
     "output_type": "display_data"
    }
   ],
   "source": [
    "plt.figure(figsize = (10, 5))\n",
    "plt.plot(range(1, 50), knn_error_rate, marker = 'o', markerfacecolor = 'red')\n",
    "plt.title('KNN Error Rate by K Value')\n",
    "plt.xlabel('K Value')\n",
    "plt.ylabel('Error Rate')"
   ]
  },
  {
   "cell_type": "code",
   "execution_count": 30,
   "metadata": {},
   "outputs": [
    {
     "data": {
      "text/plain": [
       "6"
      ]
     },
     "execution_count": 30,
     "metadata": {},
     "output_type": "execute_result"
    }
   ],
   "source": [
    "knn_error_rate.index(min(knn_error_rate)) + 1\n",
    "# find minimum error rate K Value"
   ]
  },
  {
   "cell_type": "code",
   "execution_count": 31,
   "metadata": {},
   "outputs": [
    {
     "name": "stdout",
     "output_type": "stream",
     "text": [
      "With K Value = 6\n",
      "             precision    recall  f1-score   support\n",
      "\n",
      "          1       0.71      0.96      0.82       204\n",
      "          2       0.68      0.18      0.28        96\n",
      "\n",
      "avg / total       0.70      0.71      0.65       300\n",
      "\n",
      "[[196   8]\n",
      " [ 79  17]]\n",
      "1.34333333333\n"
     ]
    }
   ],
   "source": [
    "knn_final_model = KNeighborsClassifier(n_neighbors=6)\n",
    "knn_final_model.fit(X_train_all, y_train)\n",
    "knn_final_prediction = knn_final_model.predict(X_test_all)\n",
    "\n",
    "print('With K Value = 6')\n",
    "print(classification_report(y_test, knn_final_prediction))\n",
    "print(confusion_matrix(y_test, knn_final_prediction))\n",
    "print((confusion_matrix(y_test, knn_final_prediction)[1][0] * 5\n",
    " + confusion_matrix(y_test, knn_final_prediction)[0][1]) / len(y_test))"
   ]
  },
  {
   "cell_type": "code",
   "execution_count": null,
   "metadata": {},
   "outputs": [],
   "source": []
  },
  {
   "cell_type": "markdown",
   "metadata": {},
   "source": [
    "## 4. Decision Tree"
   ]
  },
  {
   "cell_type": "code",
   "execution_count": 32,
   "metadata": {},
   "outputs": [],
   "source": [
    "from sklearn.tree import DecisionTreeClassifier"
   ]
  },
  {
   "cell_type": "code",
   "execution_count": 33,
   "metadata": {},
   "outputs": [],
   "source": [
    "dtree_model = DecisionTreeClassifier()\n",
    "dtree_model.fit(X_train_all, y_train)\n",
    "dtree_prediction = dtree_model.predict(X_test_all)"
   ]
  },
  {
   "cell_type": "code",
   "execution_count": 34,
   "metadata": {},
   "outputs": [
    {
     "name": "stdout",
     "output_type": "stream",
     "text": [
      "             precision    recall  f1-score   support\n",
      "\n",
      "          1       0.77      0.82      0.79       204\n",
      "          2       0.55      0.48      0.51        96\n",
      "\n",
      "avg / total       0.70      0.71      0.70       300\n",
      "\n",
      "[[167  37]\n",
      " [ 50  46]]\n",
      "0.956666666667\n"
     ]
    }
   ],
   "source": [
    "print(classification_report(y_test, dtree_prediction))\n",
    "print(confusion_matrix(y_test, dtree_prediction))\n",
    "print((confusion_matrix(y_test, dtree_prediction)[1][0] * 5\n",
    " + confusion_matrix(y_test, dtree_prediction)[0][1]) / len(y_test))"
   ]
  },
  {
   "cell_type": "code",
   "execution_count": null,
   "metadata": {},
   "outputs": [],
   "source": []
  },
  {
   "cell_type": "markdown",
   "metadata": {},
   "source": [
    "## 5. Random Forest"
   ]
  },
  {
   "cell_type": "code",
   "execution_count": 35,
   "metadata": {},
   "outputs": [],
   "source": [
    "from sklearn.ensemble import RandomForestClassifier"
   ]
  },
  {
   "cell_type": "code",
   "execution_count": 36,
   "metadata": {},
   "outputs": [],
   "source": [
    "rf_model = RandomForestClassifier(n_estimators=300)\n",
    "rf_model.fit(X_train_all, y_train)\n",
    "rf_prediction = rf_model.predict(X_test_all)"
   ]
  },
  {
   "cell_type": "code",
   "execution_count": 37,
   "metadata": {},
   "outputs": [
    {
     "name": "stdout",
     "output_type": "stream",
     "text": [
      "             precision    recall  f1-score   support\n",
      "\n",
      "          1       0.76      0.95      0.84       204\n",
      "          2       0.77      0.35      0.49        96\n",
      "\n",
      "avg / total       0.76      0.76      0.73       300\n",
      "\n",
      "[[194  10]\n",
      " [ 62  34]]\n",
      "1.06666666667\n"
     ]
    }
   ],
   "source": [
    "print(classification_report(y_test, rf_prediction))\n",
    "print(confusion_matrix(y_test, rf_prediction))\n",
    "print((confusion_matrix(y_test, rf_prediction)[1][0] * 5\n",
    " + confusion_matrix(y_test, rf_prediction)[0][1]) / len(y_test))"
   ]
  },
  {
   "cell_type": "code",
   "execution_count": null,
   "metadata": {},
   "outputs": [],
   "source": []
  },
  {
   "cell_type": "markdown",
   "metadata": {},
   "source": [
    "## 6. KMean"
   ]
  },
  {
   "cell_type": "code",
   "execution_count": 38,
   "metadata": {},
   "outputs": [],
   "source": [
    "from sklearn.cluster import KMeans"
   ]
  },
  {
   "cell_type": "code",
   "execution_count": null,
   "metadata": {},
   "outputs": [],
   "source": []
  },
  {
   "cell_type": "markdown",
   "metadata": {},
   "source": [
    "## 7-1. Support Vector Machine"
   ]
  },
  {
   "cell_type": "code",
   "execution_count": 39,
   "metadata": {},
   "outputs": [],
   "source": [
    "from sklearn.svm import SVC"
   ]
  },
  {
   "cell_type": "code",
   "execution_count": 141,
   "metadata": {},
   "outputs": [],
   "source": [
    "svc_model = SVC(class_weight={1:0.3})\n",
    "svc_model.fit(X_train_all, y_train)\n",
    "svc_prediction = svc_model.predict(X_test_all)"
   ]
  },
  {
   "cell_type": "code",
   "execution_count": 156,
   "metadata": {
    "scrolled": false
   },
   "outputs": [],
   "source": [
    "my_result = []\n",
    "for i in np.arange(0, 1, 0.005):\n",
    "    svc_model = SVC(class_weight = {1:i})\n",
    "    svc_model.fit(X_train_all, y_train)\n",
    "    svc_prediction = svc_model.predict(X_test_all)\n",
    "    result = (confusion_matrix(y_test, svc_prediction)[1][0] * 5\n",
    " + confusion_matrix(y_test, svc_prediction)[0][1]) / len(y_test)\n",
    "    my_result.append(result)"
   ]
  },
  {
   "cell_type": "code",
   "execution_count": 183,
   "metadata": {},
   "outputs": [
    {
     "data": {
      "text/plain": [
       "[0.68000000000000005,\n",
       " 0.68000000000000005,\n",
       " 0.68000000000000005,\n",
       " 0.68000000000000005,\n",
       " 0.68000000000000005,\n",
       " 0.68000000000000005,\n",
       " 0.68000000000000005,\n",
       " 0.68000000000000005,\n",
       " 0.68000000000000005,\n",
       " 0.68000000000000005,\n",
       " 0.68000000000000005,\n",
       " 0.68000000000000005,\n",
       " 0.68000000000000005,\n",
       " 0.68000000000000005,\n",
       " 0.68000000000000005,\n",
       " 0.68000000000000005,\n",
       " 0.68000000000000005,\n",
       " 0.68000000000000005,\n",
       " 0.68000000000000005,\n",
       " 0.68000000000000005,\n",
       " 0.68000000000000005,\n",
       " 0.68000000000000005,\n",
       " 0.68000000000000005,\n",
       " 0.68000000000000005,\n",
       " 0.68000000000000005,\n",
       " 0.68000000000000005,\n",
       " 0.68000000000000005,\n",
       " 0.68000000000000005,\n",
       " 0.68000000000000005,\n",
       " 0.68000000000000005,\n",
       " 0.68000000000000005,\n",
       " 0.68000000000000005,\n",
       " 0.67666666666666664,\n",
       " 0.67666666666666664,\n",
       " 0.67666666666666664,\n",
       " 0.67666666666666664,\n",
       " 0.67666666666666664,\n",
       " 0.67666666666666664,\n",
       " 0.67666666666666664,\n",
       " 0.67333333333333334,\n",
       " 0.66333333333333333,\n",
       " 0.67000000000000004,\n",
       " 0.66666666666666663,\n",
       " 0.66666666666666663,\n",
       " 0.66000000000000003,\n",
       " 0.65000000000000002,\n",
       " 0.6333333333333333,\n",
       " 0.63,\n",
       " 0.62,\n",
       " 0.60666666666666669,\n",
       " 0.63,\n",
       " 0.60999999999999999,\n",
       " 0.60999999999999999,\n",
       " 0.60333333333333339,\n",
       " 0.59999999999999998,\n",
       " 0.58666666666666667,\n",
       " 0.56666666666666665,\n",
       " 0.56333333333333335,\n",
       " 0.56999999999999995,\n",
       " 0.56333333333333335,\n",
       " 0.56000000000000005,\n",
       " 0.54666666666666663,\n",
       " 0.57666666666666666,\n",
       " 0.60999999999999999,\n",
       " 0.6166666666666667,\n",
       " 0.62333333333333329,\n",
       " 0.64666666666666661,\n",
       " 0.67333333333333334,\n",
       " 0.72333333333333338,\n",
       " 0.72999999999999998,\n",
       " 0.76000000000000001,\n",
       " 0.76333333333333331,\n",
       " 0.79666666666666663,\n",
       " 0.91666666666666663,\n",
       " 1.0166666666666666,\n",
       " 1.04,\n",
       " 1.05,\n",
       " 1.1000000000000001,\n",
       " 1.1499999999999999,\n",
       " 1.1699999999999999,\n",
       " 1.2233333333333334,\n",
       " 1.25,\n",
       " 1.2966666666666666,\n",
       " 1.3100000000000001,\n",
       " 1.3566666666666667,\n",
       " 1.3466666666666667,\n",
       " 1.3366666666666667,\n",
       " 1.3200000000000001,\n",
       " 1.3166666666666667,\n",
       " 1.3166666666666667,\n",
       " 1.3166666666666667,\n",
       " 1.3133333333333332,\n",
       " 1.3300000000000001,\n",
       " 1.3266666666666667,\n",
       " 1.3566666666666667,\n",
       " 1.3500000000000001,\n",
       " 1.3500000000000001,\n",
       " 1.3466666666666667,\n",
       " 1.3633333333333333,\n",
       " 1.3600000000000001,\n",
       " 1.3766666666666667,\n",
       " 1.3766666666666667,\n",
       " 1.4066666666666667,\n",
       " 1.4033333333333333,\n",
       " 1.4033333333333333,\n",
       " 1.3999999999999999,\n",
       " 1.3999999999999999,\n",
       " 1.3966666666666667,\n",
       " 1.3966666666666667,\n",
       " 1.3966666666666667,\n",
       " 1.3966666666666667,\n",
       " 1.3966666666666667,\n",
       " 1.4133333333333333,\n",
       " 1.4133333333333333,\n",
       " 1.4066666666666667,\n",
       " 1.4066666666666667,\n",
       " 1.4066666666666667,\n",
       " 1.4233333333333333,\n",
       " 1.4199999999999999,\n",
       " 1.4199999999999999,\n",
       " 1.4199999999999999,\n",
       " 1.4199999999999999,\n",
       " 1.4199999999999999,\n",
       " 1.4366666666666668,\n",
       " 1.4366666666666668,\n",
       " 1.4366666666666668,\n",
       " 1.4366666666666668,\n",
       " 1.4366666666666668,\n",
       " 1.4366666666666668,\n",
       " 1.4533333333333334,\n",
       " 1.4666666666666666,\n",
       " 1.4666666666666666,\n",
       " 1.4666666666666666,\n",
       " 1.4666666666666666,\n",
       " 1.4633333333333334,\n",
       " 1.46,\n",
       " 1.4566666666666668,\n",
       " 1.4566666666666668,\n",
       " 1.4566666666666668,\n",
       " 1.4733333333333334,\n",
       " 1.47,\n",
       " 1.4866666666666666,\n",
       " 1.4866666666666666,\n",
       " 1.4866666666666666,\n",
       " 1.4866666666666666,\n",
       " 1.4866666666666666,\n",
       " 1.4866666666666666,\n",
       " 1.4866666666666666,\n",
       " 1.4866666666666666,\n",
       " 1.4866666666666666,\n",
       " 1.4833333333333334,\n",
       " 1.4833333333333334,\n",
       " 1.4833333333333334,\n",
       " 1.4833333333333334,\n",
       " 1.4833333333333334,\n",
       " 1.4833333333333334,\n",
       " 1.4766666666666666,\n",
       " 1.4766666666666666,\n",
       " 1.4766666666666666,\n",
       " 1.4766666666666666,\n",
       " 1.4766666666666666,\n",
       " 1.4766666666666666,\n",
       " 1.4766666666666666,\n",
       " 1.4766666666666666,\n",
       " 1.4766666666666666,\n",
       " 1.4733333333333334,\n",
       " 1.4733333333333334,\n",
       " 1.4733333333333334,\n",
       " 1.4733333333333334,\n",
       " 1.4733333333333334,\n",
       " 1.4733333333333334,\n",
       " 1.4733333333333334,\n",
       " 1.4733333333333334,\n",
       " 1.4733333333333334,\n",
       " 1.4733333333333334,\n",
       " 1.4733333333333334,\n",
       " 1.4733333333333334,\n",
       " 1.4733333333333334,\n",
       " 1.4733333333333334,\n",
       " 1.4733333333333334,\n",
       " 1.4733333333333334,\n",
       " 1.4733333333333334,\n",
       " 1.4733333333333334,\n",
       " 1.4733333333333334,\n",
       " 1.4733333333333334,\n",
       " 1.4733333333333334,\n",
       " 1.4733333333333334,\n",
       " 1.4733333333333334,\n",
       " 1.4733333333333334,\n",
       " 1.4733333333333334,\n",
       " 1.4733333333333334,\n",
       " 1.4733333333333334,\n",
       " 1.4733333333333334,\n",
       " 1.4733333333333334,\n",
       " 1.4733333333333334,\n",
       " 1.4733333333333334,\n",
       " 1.47,\n",
       " 1.47,\n",
       " 1.47,\n",
       " 1.47]"
      ]
     },
     "execution_count": 183,
     "metadata": {},
     "output_type": "execute_result"
    }
   ],
   "source": [
    "my_result"
   ]
  },
  {
   "cell_type": "code",
   "execution_count": 155,
   "metadata": {},
   "outputs": [
    {
     "data": {
      "text/plain": [
       "0.54666666666666663"
      ]
     },
     "execution_count": 155,
     "metadata": {},
     "output_type": "execute_result"
    }
   ],
   "source": [
    "min(my_result)"
   ]
  },
  {
   "cell_type": "code",
   "execution_count": 153,
   "metadata": {
    "scrolled": true
   },
   "outputs": [
    {
     "data": {
      "text/plain": [
       "0.305"
      ]
     },
     "execution_count": 153,
     "metadata": {},
     "output_type": "execute_result"
    }
   ],
   "source": [
    "my_result.index(min(my_result))\n",
    "0.005 * 61"
   ]
  },
  {
   "cell_type": "code",
   "execution_count": 154,
   "metadata": {},
   "outputs": [
    {
     "name": "stdout",
     "output_type": "stream",
     "text": [
      "             precision    recall  f1-score   support\n",
      "\n",
      "          1       0.91      0.37      0.52       204\n",
      "          2       0.41      0.93      0.57        96\n",
      "\n",
      "avg / total       0.75      0.55      0.54       300\n",
      "\n",
      "[[ 75 129]\n",
      " [  7  89]]\n",
      "0.546666666667\n"
     ]
    }
   ],
   "source": [
    "svc_model = SVC(class_weight={1:0.305})\n",
    "svc_model.fit(X_train_all, y_train)\n",
    "svc_prediction = svc_model.predict(X_test_all)\n",
    "print(classification_report(y_test, svc_prediction))\n",
    "print(confusion_matrix(y_test, svc_prediction))\n",
    "print((confusion_matrix(y_test, svc_prediction)[1][0] * 5\n",
    " + confusion_matrix(y_test, svc_prediction)[0][1]) / len(y_test))"
   ]
  },
  {
   "cell_type": "code",
   "execution_count": 142,
   "metadata": {
    "scrolled": true
   },
   "outputs": [
    {
     "name": "stdout",
     "output_type": "stream",
     "text": [
      "             precision    recall  f1-score   support\n",
      "\n",
      "          1       0.91      0.35      0.50       204\n",
      "          2       0.40      0.93      0.56        96\n",
      "\n",
      "avg / total       0.75      0.53      0.52       300\n",
      "\n",
      "[[ 71 133]\n",
      " [  7  89]]\n",
      "0.56\n"
     ]
    }
   ],
   "source": [
    "print(classification_report(y_test, svc_prediction))\n",
    "print(confusion_matrix(y_test, svc_prediction))\n",
    "print((confusion_matrix(y_test, svc_prediction)[1][0] * 5\n",
    " + confusion_matrix(y_test, svc_prediction)[0][1]) / len(y_test))"
   ]
  },
  {
   "cell_type": "code",
   "execution_count": 176,
   "metadata": {},
   "outputs": [
    {
     "data": {
      "text/plain": [
       "[<matplotlib.lines.Line2D at 0x1a213ba3c8>]"
      ]
     },
     "execution_count": 176,
     "metadata": {},
     "output_type": "execute_result"
    },
    {
     "data": {
      "image/png": "[encoded data removed]",
      "text/plain": [
       "<Figure size 720x360 with 1 Axes>"
      ]
     },
     "metadata": {},
     "output_type": "display_data"
    }
   ],
   "source": [
    "plt.figure(figsize = (10, 5))\n",
    "plt.plot(np.arange(0, 1, 0.005), my_result, marker = 'o', markerfacecolor = 'red', markersize = 5)"
   ]
  },
  {
   "cell_type": "code",
   "execution_count": null,
   "metadata": {},
   "outputs": [],
   "source": []
  },
  {
   "cell_type": "markdown",
   "metadata": {},
   "source": [
    "## 7-2. SVM with Gridsearch"
   ]
  },
  {
   "cell_type": "code",
   "execution_count": 42,
   "metadata": {},
   "outputs": [],
   "source": [
    "from sklearn.model_selection import GridSearchCV"
   ]
  },
  {
   "cell_type": "code",
   "execution_count": 43,
   "metadata": {},
   "outputs": [
    {
     "name": "stdout",
     "output_type": "stream",
     "text": [
      "Fitting 3 folds for each of 16 candidates, totalling 48 fits\n",
      "[CV] C=0.1, gamma=1 ..................................................\n",
      "[CV] ................................... C=0.1, gamma=1, total=   0.0s\n",
      "[CV] C=0.1, gamma=1 ..................................................\n",
      "[CV] ................................... C=0.1, gamma=1, total=   0.0s\n",
      "[CV] C=0.1, gamma=1 ..................................................\n",
      "[CV] ................................... C=0.1, gamma=1, total=   0.0s\n",
      "[CV] C=0.1, gamma=0.1 ................................................\n",
      "[CV] ................................. C=0.1, gamma=0.1, total=   0.0s\n",
      "[CV] C=0.1, gamma=0.1 ................................................\n",
      "[CV] ................................. C=0.1, gamma=0.1, total=   0.0s\n",
      "[CV] C=0.1, gamma=0.1 ................................................\n",
      "[CV] ................................. C=0.1, gamma=0.1, total=   0.0s\n",
      "[CV] C=0.1, gamma=0.01 ...............................................\n",
      "[CV] ................................ C=0.1, gamma=0.01, total=   0.0s\n",
      "[CV] C=0.1, gamma=0.01 ...............................................\n"
     ]
    },
    {
     "name": "stderr",
     "output_type": "stream",
     "text": [
      "[Parallel(n_jobs=1)]: Done   1 out of   1 | elapsed:    0.0s remaining:    0.0s\n"
     ]
    },
    {
     "name": "stdout",
     "output_type": "stream",
     "text": [
      "[CV] ................................ C=0.1, gamma=0.01, total=   0.0s\n",
      "[CV] C=0.1, gamma=0.01 ...............................................\n",
      "[CV] ................................ C=0.1, gamma=0.01, total=   0.0s\n",
      "[CV] C=0.1, gamma=0.001 ..............................................\n",
      "[CV] ............................... C=0.1, gamma=0.001, total=   0.0s\n",
      "[CV] C=0.1, gamma=0.001 ..............................................\n",
      "[CV] ............................... C=0.1, gamma=0.001, total=   0.0s\n",
      "[CV] C=0.1, gamma=0.001 ..............................................\n",
      "[CV] ............................... C=0.1, gamma=0.001, total=   0.0s\n",
      "[CV] C=1, gamma=1 ....................................................\n",
      "[CV] ..................................... C=1, gamma=1, total=   0.0s\n",
      "[CV] C=1, gamma=1 ....................................................\n",
      "[CV] ..................................... C=1, gamma=1, total=   0.0s\n",
      "[CV] C=1, gamma=1 ....................................................\n",
      "[CV] ..................................... C=1, gamma=1, total=   0.0s\n",
      "[CV] C=1, gamma=0.1 ..................................................\n",
      "[CV] ................................... C=1, gamma=0.1, total=   0.0s\n",
      "[CV] C=1, gamma=0.1 ..................................................\n",
      "[CV] ................................... C=1, gamma=0.1, total=   0.0s\n",
      "[CV] C=1, gamma=0.1 ..................................................\n",
      "[CV] ................................... C=1, gamma=0.1, total=   0.0s\n",
      "[CV] C=1, gamma=0.01 .................................................\n",
      "[CV] .................................. C=1, gamma=0.01, total=   0.0s\n",
      "[CV] C=1, gamma=0.01 .................................................\n",
      "[CV] .................................. C=1, gamma=0.01, total=   0.0s\n",
      "[CV] C=1, gamma=0.01 .................................................\n",
      "[CV] .................................. C=1, gamma=0.01, total=   0.0s\n",
      "[CV] C=1, gamma=0.001 ................................................\n",
      "[CV] ................................. C=1, gamma=0.001, total=   0.0s\n",
      "[CV] C=1, gamma=0.001 ................................................\n",
      "[CV] ................................. C=1, gamma=0.001, total=   0.0s\n",
      "[CV] C=1, gamma=0.001 ................................................\n",
      "[CV] ................................. C=1, gamma=0.001, total=   0.0s\n",
      "[CV] C=10, gamma=1 ...................................................\n",
      "[CV] .................................... C=10, gamma=1, total=   0.0s\n",
      "[CV] C=10, gamma=1 ...................................................\n",
      "[CV] .................................... C=10, gamma=1, total=   0.0s\n",
      "[CV] C=10, gamma=1 ...................................................\n",
      "[CV] .................................... C=10, gamma=1, total=   0.0s\n",
      "[CV] C=10, gamma=0.1 .................................................\n",
      "[CV] .................................. C=10, gamma=0.1, total=   0.0s\n",
      "[CV] C=10, gamma=0.1 .................................................\n",
      "[CV] .................................. C=10, gamma=0.1, total=   0.0s\n",
      "[CV] C=10, gamma=0.1 .................................................\n",
      "[CV] .................................. C=10, gamma=0.1, total=   0.0s\n",
      "[CV] C=10, gamma=0.01 ................................................\n",
      "[CV] ................................. C=10, gamma=0.01, total=   0.0s\n",
      "[CV] C=10, gamma=0.01 ................................................\n",
      "[CV] ................................. C=10, gamma=0.01, total=   0.0s\n",
      "[CV] C=10, gamma=0.01 ................................................\n",
      "[CV] ................................. C=10, gamma=0.01, total=   0.0s\n",
      "[CV] C=10, gamma=0.001 ...............................................\n",
      "[CV] ................................ C=10, gamma=0.001, total=   0.0s\n",
      "[CV] C=10, gamma=0.001 ...............................................\n",
      "[CV] ................................ C=10, gamma=0.001, total=   0.0s\n",
      "[CV] C=10, gamma=0.001 ...............................................\n",
      "[CV] ................................ C=10, gamma=0.001, total=   0.0s\n",
      "[CV] C=100, gamma=1 ..................................................\n",
      "[CV] ................................... C=100, gamma=1, total=   0.0s\n",
      "[CV] C=100, gamma=1 ..................................................\n",
      "[CV] ................................... C=100, gamma=1, total=   0.0s\n",
      "[CV] C=100, gamma=1 ..................................................\n",
      "[CV] ................................... C=100, gamma=1, total=   0.0s\n",
      "[CV] C=100, gamma=0.1 ................................................\n",
      "[CV] ................................. C=100, gamma=0.1, total=   0.0s\n",
      "[CV] C=100, gamma=0.1 ................................................\n",
      "[CV] ................................. C=100, gamma=0.1, total=   0.0s\n",
      "[CV] C=100, gamma=0.1 ................................................\n",
      "[CV] ................................. C=100, gamma=0.1, total=   0.0s\n",
      "[CV] C=100, gamma=0.01 ...............................................\n",
      "[CV] ................................ C=100, gamma=0.01, total=   0.0s\n",
      "[CV] C=100, gamma=0.01 ...............................................\n",
      "[CV] ................................ C=100, gamma=0.01, total=   0.0s\n",
      "[CV] C=100, gamma=0.01 ...............................................\n",
      "[CV] ................................ C=100, gamma=0.01, total=   0.0s\n",
      "[CV] C=100, gamma=0.001 ..............................................\n",
      "[CV] ............................... C=100, gamma=0.001, total=   0.0s\n",
      "[CV] C=100, gamma=0.001 ..............................................\n",
      "[CV] ............................... C=100, gamma=0.001, total=   0.0s\n",
      "[CV] C=100, gamma=0.001 ..............................................\n",
      "[CV] ............................... C=100, gamma=0.001, total=   0.0s\n"
     ]
    },
    {
     "name": "stderr",
     "output_type": "stream",
     "text": [
      "[Parallel(n_jobs=1)]: Done  48 out of  48 | elapsed:    1.6s finished\n"
     ]
    },
    {
     "ename": "NameError",
     "evalue": "name 'grid_' is not defined",
     "output_type": "error",
     "traceback": [
      "\u001b[0;31m---------------------------------------------------------------------------\u001b[0m",
      "\u001b[0;31mNameError\u001b[0m                                 Traceback (most recent call last)",
      "\u001b[0;32m<ipython-input-43-73d011409400>\u001b[0m in \u001b[0;36m<module>\u001b[0;34m()\u001b[0m\n\u001b[1;32m      2\u001b[0m \u001b[0mgrid\u001b[0m \u001b[0;34m=\u001b[0m \u001b[0mGridSearchCV\u001b[0m\u001b[0;34m(\u001b[0m\u001b[0mSVC\u001b[0m\u001b[0;34m(\u001b[0m\u001b[0;34m)\u001b[0m\u001b[0;34m,\u001b[0m \u001b[0mparam_grid\u001b[0m\u001b[0;34m,\u001b[0m \u001b[0mrefit\u001b[0m \u001b[0;34m=\u001b[0m \u001b[0;32mTrue\u001b[0m\u001b[0;34m,\u001b[0m \u001b[0mverbose\u001b[0m \u001b[0;34m=\u001b[0m \u001b[0;36m2\u001b[0m\u001b[0;34m)\u001b[0m\u001b[0;34m\u001b[0m\u001b[0m\n\u001b[1;32m      3\u001b[0m \u001b[0mgrid\u001b[0m\u001b[0;34m.\u001b[0m\u001b[0mfit\u001b[0m\u001b[0;34m(\u001b[0m\u001b[0mX_train_all\u001b[0m\u001b[0;34m,\u001b[0m \u001b[0my_train\u001b[0m\u001b[0;34m)\u001b[0m\u001b[0;34m\u001b[0m\u001b[0m\n\u001b[0;32m----> 4\u001b[0;31m \u001b[0mgrid_prediction\u001b[0m \u001b[0;34m=\u001b[0m \u001b[0mgrid_\u001b[0m\u001b[0;34m.\u001b[0m\u001b[0mpredict\u001b[0m\u001b[0;34m(\u001b[0m\u001b[0mX_test_all\u001b[0m\u001b[0;34m)\u001b[0m\u001b[0;34m\u001b[0m\u001b[0m\n\u001b[0m",
      "\u001b[0;31mNameError\u001b[0m: name 'grid_' is not defined"
     ]
    }
   ],
   "source": [
    "param_grid = {'C':[0.1, 1, 10, 100], 'gamma':[1, 0.1, 0.01, 0.001]}\n",
    "grid = GridSearchCV(SVC(), param_grid, refit = True, verbose = 2)\n",
    "grid.fit(X_train_all, y_train)\n",
    "grid_prediction = grid_.predict(X_test_all)"
   ]
  },
  {
   "cell_type": "code",
   "execution_count": null,
   "metadata": {
    "scrolled": true
   },
   "outputs": [],
   "source": [
    "print(classification_report(y_test, grid_prediction))\n",
    "print(confusion_matrix(y_test, grid_prediction))\n",
    "print((confusion_matrix(y_test, grid_prediction)[1][0] * 5\n",
    " + confusion_matrix(y_test, grid_prediction)[0][1]) / len(y_test))"
   ]
  },
  {
   "cell_type": "code",
   "execution_count": null,
   "metadata": {},
   "outputs": [],
   "source": []
  },
  {
   "cell_type": "code",
   "execution_count": 157,
   "metadata": {
    "scrolled": true
   },
   "outputs": [
    {
     "name": "stdout",
     "output_type": "stream",
     "text": [
      "Fitting 3 folds for each of 16 candidates, totalling 48 fits\n",
      "[CV] C=0.1, gamma=1 ..................................................\n",
      "[CV] ................................... C=0.1, gamma=1, total=   0.0s\n",
      "[CV] C=0.1, gamma=1 ..................................................\n",
      "[CV] ................................... C=0.1, gamma=1, total=   0.0s\n",
      "[CV] C=0.1, gamma=1 ..................................................\n",
      "[CV] ................................... C=0.1, gamma=1, total=   0.0s\n",
      "[CV] C=0.1, gamma=0.1 ................................................\n",
      "[CV] ................................. C=0.1, gamma=0.1, total=   0.0s\n",
      "[CV] C=0.1, gamma=0.1 ................................................\n",
      "[CV] ................................. C=0.1, gamma=0.1, total=   0.0s\n",
      "[CV] C=0.1, gamma=0.1 ................................................\n",
      "[CV] ................................. C=0.1, gamma=0.1, total=   0.0s\n",
      "[CV] C=0.1, gamma=0.01 ...............................................\n",
      "[CV] ................................ C=0.1, gamma=0.01, total=   0.0s\n",
      "[CV] C=0.1, gamma=0.01 ...............................................\n",
      "[CV] ................................ C=0.1, gamma=0.01, total=   0.0s\n",
      "[CV] C=0.1, gamma=0.01 ...............................................\n",
      "[CV] ................................ C=0.1, gamma=0.01, total=   0.0s\n",
      "[CV] C=0.1, gamma=0.001 ..............................................\n",
      "[CV] ............................... C=0.1, gamma=0.001, total=   0.0s\n",
      "[CV] C=0.1, gamma=0.001 ..............................................\n",
      "[CV] ............................... C=0.1, gamma=0.001, total=   0.0s\n",
      "[CV] C=0.1, gamma=0.001 ..............................................\n",
      "[CV] ............................... C=0.1, gamma=0.001, total=   0.0s\n",
      "[CV] C=1, gamma=1 ....................................................\n",
      "[CV] ..................................... C=1, gamma=1, total=   0.0s\n",
      "[CV] C=1, gamma=1 ....................................................\n"
     ]
    },
    {
     "name": "stderr",
     "output_type": "stream",
     "text": [
      "[Parallel(n_jobs=1)]: Done   1 out of   1 | elapsed:    0.0s remaining:    0.0s\n"
     ]
    },
    {
     "name": "stdout",
     "output_type": "stream",
     "text": [
      "[CV] ..................................... C=1, gamma=1, total=   0.0s\n",
      "[CV] C=1, gamma=1 ....................................................\n",
      "[CV] ..................................... C=1, gamma=1, total=   0.0s\n",
      "[CV] C=1, gamma=0.1 ..................................................\n",
      "[CV] ................................... C=1, gamma=0.1, total=   0.0s\n",
      "[CV] C=1, gamma=0.1 ..................................................\n",
      "[CV] ................................... C=1, gamma=0.1, total=   0.0s\n",
      "[CV] C=1, gamma=0.1 ..................................................\n",
      "[CV] ................................... C=1, gamma=0.1, total=   0.0s\n",
      "[CV] C=1, gamma=0.01 .................................................\n",
      "[CV] .................................. C=1, gamma=0.01, total=   0.0s\n",
      "[CV] C=1, gamma=0.01 .................................................\n",
      "[CV] .................................. C=1, gamma=0.01, total=   0.0s\n",
      "[CV] C=1, gamma=0.01 .................................................\n",
      "[CV] .................................. C=1, gamma=0.01, total=   0.0s\n",
      "[CV] C=1, gamma=0.001 ................................................\n",
      "[CV] ................................. C=1, gamma=0.001, total=   0.0s\n",
      "[CV] C=1, gamma=0.001 ................................................\n",
      "[CV] ................................. C=1, gamma=0.001, total=   0.0s\n",
      "[CV] C=1, gamma=0.001 ................................................\n",
      "[CV] ................................. C=1, gamma=0.001, total=   0.0s\n",
      "[CV] C=10, gamma=1 ...................................................\n",
      "[CV] .................................... C=10, gamma=1, total=   0.0s\n",
      "[CV] C=10, gamma=1 ...................................................\n",
      "[CV] .................................... C=10, gamma=1, total=   0.0s\n",
      "[CV] C=10, gamma=1 ...................................................\n",
      "[CV] .................................... C=10, gamma=1, total=   0.0s\n",
      "[CV] C=10, gamma=0.1 .................................................\n",
      "[CV] .................................. C=10, gamma=0.1, total=   0.0s\n",
      "[CV] C=10, gamma=0.1 .................................................\n",
      "[CV] .................................. C=10, gamma=0.1, total=   0.0s\n",
      "[CV] C=10, gamma=0.1 .................................................\n",
      "[CV] .................................. C=10, gamma=0.1, total=   0.0s\n",
      "[CV] C=10, gamma=0.01 ................................................\n",
      "[CV] ................................. C=10, gamma=0.01, total=   0.0s\n",
      "[CV] C=10, gamma=0.01 ................................................\n",
      "[CV] ................................. C=10, gamma=0.01, total=   0.0s\n",
      "[CV] C=10, gamma=0.01 ................................................\n",
      "[CV] ................................. C=10, gamma=0.01, total=   0.0s\n",
      "[CV] C=10, gamma=0.001 ...............................................\n",
      "[CV] ................................ C=10, gamma=0.001, total=   0.0s\n",
      "[CV] C=10, gamma=0.001 ...............................................\n",
      "[CV] ................................ C=10, gamma=0.001, total=   0.0s\n",
      "[CV] C=10, gamma=0.001 ...............................................\n",
      "[CV] ................................ C=10, gamma=0.001, total=   0.0s\n",
      "[CV] C=100, gamma=1 ..................................................\n",
      "[CV] ................................... C=100, gamma=1, total=   0.0s\n",
      "[CV] C=100, gamma=1 ..................................................\n",
      "[CV] ................................... C=100, gamma=1, total=   0.0s\n",
      "[CV] C=100, gamma=1 ..................................................\n",
      "[CV] ................................... C=100, gamma=1, total=   0.0s\n",
      "[CV] C=100, gamma=0.1 ................................................\n",
      "[CV] ................................. C=100, gamma=0.1, total=   0.0s\n",
      "[CV] C=100, gamma=0.1 ................................................\n",
      "[CV] ................................. C=100, gamma=0.1, total=   0.0s\n",
      "[CV] C=100, gamma=0.1 ................................................\n",
      "[CV] ................................. C=100, gamma=0.1, total=   0.0s\n",
      "[CV] C=100, gamma=0.01 ...............................................\n",
      "[CV] ................................ C=100, gamma=0.01, total=   0.0s\n",
      "[CV] C=100, gamma=0.01 ...............................................\n",
      "[CV] ................................ C=100, gamma=0.01, total=   0.0s\n",
      "[CV] C=100, gamma=0.01 ...............................................\n",
      "[CV] ................................ C=100, gamma=0.01, total=   0.0s\n",
      "[CV] C=100, gamma=0.001 ..............................................\n",
      "[CV] ............................... C=100, gamma=0.001, total=   0.0s\n",
      "[CV] C=100, gamma=0.001 ..............................................\n",
      "[CV] ............................... C=100, gamma=0.001, total=   0.0s\n",
      "[CV] C=100, gamma=0.001 ..............................................\n",
      "[CV] ............................... C=100, gamma=0.001, total=   0.0s\n"
     ]
    },
    {
     "name": "stderr",
     "output_type": "stream",
     "text": [
      "[Parallel(n_jobs=1)]: Done  48 out of  48 | elapsed:    0.6s finished\n"
     ]
    }
   ],
   "source": [
    "grid_sel = GridSearchCV(SVC(class_weight={1:0.305}), param_grid, refit = True, verbose = 2)\n",
    "grid_sel.fit(X_train_select, y_train)\n",
    "grid_prediction_sel = grid_sel.predict(X_test_select)"
   ]
  },
  {
   "cell_type": "code",
   "execution_count": 158,
   "metadata": {},
   "outputs": [
    {
     "name": "stdout",
     "output_type": "stream",
     "text": [
      "             precision    recall  f1-score   support\n",
      "\n",
      "          1       0.84      0.58      0.68       204\n",
      "          2       0.46      0.76      0.57        96\n",
      "\n",
      "avg / total       0.72      0.64      0.65       300\n",
      "\n",
      "[[118  86]\n",
      " [ 23  73]]\n",
      "0.67\n"
     ]
    }
   ],
   "source": [
    "print(classification_report(y_test, grid_prediction_sel))\n",
    "print(confusion_matrix(y_test, grid_prediction_sel))\n",
    "print((confusion_matrix(y_test, grid_prediction_sel)[1][0] * 5\n",
    " + confusion_matrix(y_test, grid_prediction_sel)[0][1]) / len(y_test))"
   ]
  },
  {
   "cell_type": "code",
   "execution_count": null,
   "metadata": {},
   "outputs": [],
   "source": []
  },
  {
   "cell_type": "markdown",
   "metadata": {},
   "source": [
    "## 8. Conclusion"
   ]
  },
  {
   "cell_type": "code",
   "execution_count": null,
   "metadata": {},
   "outputs": [],
   "source": [
    "results = pd.DataFrame(data={'Logistic': [0.996], 'KNN': [1.17],\n",
    "                   'Up KNN': [1.34], 'DTree': [0.973], 'RanFor': [1.05],\n",
    "                   'SVM': [1.47], 'SVM Grid': [0.96] })\n",
    "results"
   ]
  },
  {
   "cell_type": "code",
   "execution_count": null,
   "metadata": {},
   "outputs": [],
   "source": []
  },
  {
   "cell_type": "code",
   "execution_count": null,
   "metadata": {},
   "outputs": [],
   "source": [
    "# Dec. 31, 1994\t11.48%\n",
    "# Dec. 31, 1993\t12.85%\n",
    "# Dec. 31, 1992\t13.59%\n",
    "# Dec. 31, 1991\t12.46%\n",
    "# Dec. 31, 1990\t11.59%\n",
    "avg_rate = np.mean([11.48, 12.85, 13.59, 12.46, 11.59])\n",
    "print(avg_rate)"
   ]
  },
  {
   "cell_type": "code",
   "execution_count": null,
   "metadata": {},
   "outputs": [],
   "source": [
    "german_num_test = german_num"
   ]
  },
  {
   "cell_type": "code",
   "execution_count": null,
   "metadata": {
    "scrolled": true
   },
   "outputs": [],
   "source": [
    "(german_num_test['Credit Amount'] * 100).head()"
   ]
  },
  {
   "cell_type": "code",
   "execution_count": null,
   "metadata": {},
   "outputs": [],
   "source": [
    "german_num_test['Predict Loss'] = german_num_test['Credit Amount'] * 100"
   ]
  },
  {
   "cell_type": "code",
   "execution_count": null,
   "metadata": {},
   "outputs": [],
   "source": [
    "german_num_test['Predict Loss'].head()"
   ]
  },
  {
   "cell_type": "code",
   "execution_count": null,
   "metadata": {},
   "outputs": [],
   "source": [
    "german_num_test['Rate Loss'] = german_num_test['Predict Loss'] * 20 * 0.01"
   ]
  },
  {
   "cell_type": "code",
   "execution_count": null,
   "metadata": {},
   "outputs": [],
   "source": [
    "german_num_test['Rate Loss'].head()"
   ]
  },
  {
   "cell_type": "code",
   "execution_count": null,
   "metadata": {},
   "outputs": [],
   "source": [
    "german_num_test.head()"
   ]
  },
  {
   "cell_type": "code",
   "execution_count": null,
   "metadata": {},
   "outputs": [],
   "source": []
  }
 ],
 "metadata": {
  "kernelspec": {
   "display_name": "Python 3",
   "language": "python",
   "name": "python3"
  },
  "language_info": {
   "codemirror_mode": {
    "name": "ipython",
    "version": 3
   },
   "file_extension": ".py",
   "mimetype": "text/x-python",
   "name": "python",
   "nbconvert_exporter": "python",
   "pygments_lexer": "ipython3",
   "version": "3.6.5"
  }
 },
 "nbformat": 4,
 "nbformat_minor": 2
}
